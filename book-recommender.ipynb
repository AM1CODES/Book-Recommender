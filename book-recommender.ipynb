{
 "cells": [
  {
   "cell_type": "markdown",
   "metadata": {
    "papermill": {
     "duration": 0.04015,
     "end_time": "2020-10-12T08:04:37.035302",
     "exception": false,
     "start_time": "2020-10-12T08:04:36.995152",
     "status": "completed"
    },
    "tags": []
   },
   "source": [
    "Importing Project dependencies"
   ]
  },
  {
   "cell_type": "code",
   "execution_count": 1,
   "metadata": {
    "_cell_guid": "b1076dfc-b9ad-4769-8c92-a6c4dae69d19",
    "_uuid": "8f2839f25d086af736a60e9eeb907d3b93b6e0e5",
    "execution": {
     "iopub.execute_input": "2020-10-12T08:04:37.121679Z",
     "iopub.status.busy": "2020-10-12T08:04:37.120868Z",
     "iopub.status.idle": "2020-10-12T08:04:38.635208Z",
     "shell.execute_reply": "2020-10-12T08:04:38.634432Z"
    },
    "papermill": {
     "duration": 1.560947,
     "end_time": "2020-10-12T08:04:38.635357",
     "exception": false,
     "start_time": "2020-10-12T08:04:37.074410",
     "status": "completed"
    },
    "tags": []
   },
   "outputs": [
    {
     "name": "stdout",
     "output_type": "stream",
     "text": [
      "/kaggle/input/goodreadsbooks/books.csv\n"
     ]
    }
   ],
   "source": [
    "import numpy as np \n",
    "import pandas as pd\n",
    "import seaborn as sns\n",
    "import matplotlib.pyplot as plt\n",
    "from sklearn.cluster import KMeans\n",
    "from sklearn import neighbors\n",
    "from sklearn.model_selection import train_test_split\n",
    "from sklearn.preprocessing import MinMaxScaler\n",
    "import os\n",
    "for dirname, _, filenames in os.walk('/kaggle/input'):\n",
    "    for filename in filenames:\n",
    "        print(os.path.join(dirname, filename))"
   ]
  },
  {
   "cell_type": "markdown",
   "metadata": {
    "papermill": {
     "duration": 0.038785,
     "end_time": "2020-10-12T08:04:38.713759",
     "exception": false,
     "start_time": "2020-10-12T08:04:38.674974",
     "status": "completed"
    },
    "tags": []
   },
   "source": [
    "We will start by importing our data set. It's a data set that contains information about books, who wrote these books and other relevant information. Let's take a look at what our different columns mean - \n",
    "* bookID - Contains the unique ID for each book/series\n",
    "* title - contains the titles of the books\n",
    "* authors - contains the author of the particular book\n",
    "* average_rating - the average rating of the books, as decided by the users\n",
    "* ISBN - Another unique number to identify the book, the International Standard Book Number.\n",
    "* ISBN 13 - A 13-digit ISBN to identify the book, instead of the standard 11-digit ISBN.\n",
    "* language_code - Helps understand what is the primary language of the book. For instance, eng is standard for                     English.\n",
    "* Num_pages - Number of pages the book contains.\n",
    "* Ratings_count - Total number of ratings the book received.\n",
    "* text_reviews_count - Total number of written text reviews the book received."
   ]
  },
  {
   "cell_type": "code",
   "execution_count": 2,
   "metadata": {
    "execution": {
     "iopub.execute_input": "2020-10-12T08:04:38.799636Z",
     "iopub.status.busy": "2020-10-12T08:04:38.798874Z",
     "iopub.status.idle": "2020-10-12T08:04:38.864626Z",
     "shell.execute_reply": "2020-10-12T08:04:38.865365Z"
    },
    "papermill": {
     "duration": 0.112695,
     "end_time": "2020-10-12T08:04:38.865519",
     "exception": false,
     "start_time": "2020-10-12T08:04:38.752824",
     "status": "completed"
    },
    "tags": []
   },
   "outputs": [
    {
     "name": "stderr",
     "output_type": "stream",
     "text": [
      "b'Skipping line 3350: expected 12 fields, saw 13\\nSkipping line 4704: expected 12 fields, saw 13\\nSkipping line 5879: expected 12 fields, saw 13\\nSkipping line 8981: expected 12 fields, saw 13\\n'\n"
     ]
    }
   ],
   "source": [
    "df = pd.read_csv('/kaggle/input/goodreadsbooks/books.csv',error_bad_lines = False)"
   ]
  },
  {
   "cell_type": "code",
   "execution_count": 3,
   "metadata": {
    "execution": {
     "iopub.execute_input": "2020-10-12T08:04:38.969623Z",
     "iopub.status.busy": "2020-10-12T08:04:38.955938Z",
     "iopub.status.idle": "2020-10-12T08:04:38.984933Z",
     "shell.execute_reply": "2020-10-12T08:04:38.984148Z"
    },
    "papermill": {
     "duration": 0.079635,
     "end_time": "2020-10-12T08:04:38.985074",
     "exception": false,
     "start_time": "2020-10-12T08:04:38.905439",
     "status": "completed"
    },
    "tags": []
   },
   "outputs": [
    {
     "data": {
      "text/html": [
       "<div>\n",
       "<style scoped>\n",
       "    .dataframe tbody tr th:only-of-type {\n",
       "        vertical-align: middle;\n",
       "    }\n",
       "\n",
       "    .dataframe tbody tr th {\n",
       "        vertical-align: top;\n",
       "    }\n",
       "\n",
       "    .dataframe thead th {\n",
       "        text-align: right;\n",
       "    }\n",
       "</style>\n",
       "<table border=\"1\" class=\"dataframe\">\n",
       "  <thead>\n",
       "    <tr style=\"text-align: right;\">\n",
       "      <th></th>\n",
       "      <th>bookID</th>\n",
       "      <th>title</th>\n",
       "      <th>authors</th>\n",
       "      <th>average_rating</th>\n",
       "      <th>isbn</th>\n",
       "      <th>isbn13</th>\n",
       "      <th>language_code</th>\n",
       "      <th>num_pages</th>\n",
       "      <th>ratings_count</th>\n",
       "      <th>text_reviews_count</th>\n",
       "      <th>publication_date</th>\n",
       "      <th>publisher</th>\n",
       "    </tr>\n",
       "  </thead>\n",
       "  <tbody>\n",
       "    <tr>\n",
       "      <th>0</th>\n",
       "      <td>1</td>\n",
       "      <td>Harry Potter and the Half-Blood Prince (Harry ...</td>\n",
       "      <td>J.K. Rowling/Mary GrandPré</td>\n",
       "      <td>4.57</td>\n",
       "      <td>0439785960</td>\n",
       "      <td>9780439785969</td>\n",
       "      <td>eng</td>\n",
       "      <td>652</td>\n",
       "      <td>2095690</td>\n",
       "      <td>27591</td>\n",
       "      <td>9/16/2006</td>\n",
       "      <td>Scholastic Inc.</td>\n",
       "    </tr>\n",
       "    <tr>\n",
       "      <th>1</th>\n",
       "      <td>2</td>\n",
       "      <td>Harry Potter and the Order of the Phoenix (Har...</td>\n",
       "      <td>J.K. Rowling/Mary GrandPré</td>\n",
       "      <td>4.49</td>\n",
       "      <td>0439358078</td>\n",
       "      <td>9780439358071</td>\n",
       "      <td>eng</td>\n",
       "      <td>870</td>\n",
       "      <td>2153167</td>\n",
       "      <td>29221</td>\n",
       "      <td>9/1/2004</td>\n",
       "      <td>Scholastic Inc.</td>\n",
       "    </tr>\n",
       "    <tr>\n",
       "      <th>2</th>\n",
       "      <td>4</td>\n",
       "      <td>Harry Potter and the Chamber of Secrets (Harry...</td>\n",
       "      <td>J.K. Rowling</td>\n",
       "      <td>4.42</td>\n",
       "      <td>0439554896</td>\n",
       "      <td>9780439554893</td>\n",
       "      <td>eng</td>\n",
       "      <td>352</td>\n",
       "      <td>6333</td>\n",
       "      <td>244</td>\n",
       "      <td>11/1/2003</td>\n",
       "      <td>Scholastic</td>\n",
       "    </tr>\n",
       "    <tr>\n",
       "      <th>3</th>\n",
       "      <td>5</td>\n",
       "      <td>Harry Potter and the Prisoner of Azkaban (Harr...</td>\n",
       "      <td>J.K. Rowling/Mary GrandPré</td>\n",
       "      <td>4.56</td>\n",
       "      <td>043965548X</td>\n",
       "      <td>9780439655484</td>\n",
       "      <td>eng</td>\n",
       "      <td>435</td>\n",
       "      <td>2339585</td>\n",
       "      <td>36325</td>\n",
       "      <td>5/1/2004</td>\n",
       "      <td>Scholastic Inc.</td>\n",
       "    </tr>\n",
       "    <tr>\n",
       "      <th>4</th>\n",
       "      <td>8</td>\n",
       "      <td>Harry Potter Boxed Set  Books 1-5 (Harry Potte...</td>\n",
       "      <td>J.K. Rowling/Mary GrandPré</td>\n",
       "      <td>4.78</td>\n",
       "      <td>0439682584</td>\n",
       "      <td>9780439682589</td>\n",
       "      <td>eng</td>\n",
       "      <td>2690</td>\n",
       "      <td>41428</td>\n",
       "      <td>164</td>\n",
       "      <td>9/13/2004</td>\n",
       "      <td>Scholastic</td>\n",
       "    </tr>\n",
       "  </tbody>\n",
       "</table>\n",
       "</div>"
      ],
      "text/plain": [
       "   bookID                                              title  \\\n",
       "0       1  Harry Potter and the Half-Blood Prince (Harry ...   \n",
       "1       2  Harry Potter and the Order of the Phoenix (Har...   \n",
       "2       4  Harry Potter and the Chamber of Secrets (Harry...   \n",
       "3       5  Harry Potter and the Prisoner of Azkaban (Harr...   \n",
       "4       8  Harry Potter Boxed Set  Books 1-5 (Harry Potte...   \n",
       "\n",
       "                      authors  average_rating        isbn         isbn13  \\\n",
       "0  J.K. Rowling/Mary GrandPré            4.57  0439785960  9780439785969   \n",
       "1  J.K. Rowling/Mary GrandPré            4.49  0439358078  9780439358071   \n",
       "2                J.K. Rowling            4.42  0439554896  9780439554893   \n",
       "3  J.K. Rowling/Mary GrandPré            4.56  043965548X  9780439655484   \n",
       "4  J.K. Rowling/Mary GrandPré            4.78  0439682584  9780439682589   \n",
       "\n",
       "  language_code    num_pages  ratings_count  text_reviews_count  \\\n",
       "0           eng          652        2095690               27591   \n",
       "1           eng          870        2153167               29221   \n",
       "2           eng          352           6333                 244   \n",
       "3           eng          435        2339585               36325   \n",
       "4           eng         2690          41428                 164   \n",
       "\n",
       "  publication_date        publisher  \n",
       "0        9/16/2006  Scholastic Inc.  \n",
       "1         9/1/2004  Scholastic Inc.  \n",
       "2        11/1/2003       Scholastic  \n",
       "3         5/1/2004  Scholastic Inc.  \n",
       "4        9/13/2004       Scholastic  "
      ]
     },
     "execution_count": 3,
     "metadata": {},
     "output_type": "execute_result"
    }
   ],
   "source": [
    "df.head() #checking the head of our data"
   ]
  },
  {
   "cell_type": "markdown",
   "metadata": {
    "papermill": {
     "duration": 0.044775,
     "end_time": "2020-10-12T08:04:39.071547",
     "exception": false,
     "start_time": "2020-10-12T08:04:39.026772",
     "status": "completed"
    },
    "tags": []
   },
   "source": [
    "Now that we know how what our data looks like, lets go ahead and look for any null values present in our data."
   ]
  },
  {
   "cell_type": "code",
   "execution_count": 4,
   "metadata": {
    "execution": {
     "iopub.execute_input": "2020-10-12T08:04:39.166035Z",
     "iopub.status.busy": "2020-10-12T08:04:39.165219Z",
     "iopub.status.idle": "2020-10-12T08:04:39.173799Z",
     "shell.execute_reply": "2020-10-12T08:04:39.173047Z"
    },
    "papermill": {
     "duration": 0.061667,
     "end_time": "2020-10-12T08:04:39.173922",
     "exception": false,
     "start_time": "2020-10-12T08:04:39.112255",
     "status": "completed"
    },
    "tags": []
   },
   "outputs": [
    {
     "data": {
      "text/plain": [
       "bookID                0\n",
       "title                 0\n",
       "authors               0\n",
       "average_rating        0\n",
       "isbn                  0\n",
       "isbn13                0\n",
       "language_code         0\n",
       "  num_pages           0\n",
       "ratings_count         0\n",
       "text_reviews_count    0\n",
       "publication_date      0\n",
       "publisher             0\n",
       "dtype: int64"
      ]
     },
     "execution_count": 4,
     "metadata": {},
     "output_type": "execute_result"
    }
   ],
   "source": [
    "df.isnull().sum() #checking for any null values present in the data"
   ]
  },
  {
   "cell_type": "code",
   "execution_count": 5,
   "metadata": {
    "execution": {
     "iopub.execute_input": "2020-10-12T08:04:39.266450Z",
     "iopub.status.busy": "2020-10-12T08:04:39.265320Z",
     "iopub.status.idle": "2020-10-12T08:04:39.269957Z",
     "shell.execute_reply": "2020-10-12T08:04:39.269212Z"
    },
    "papermill": {
     "duration": 0.054214,
     "end_time": "2020-10-12T08:04:39.270091",
     "exception": false,
     "start_time": "2020-10-12T08:04:39.215877",
     "status": "completed"
    },
    "tags": []
   },
   "outputs": [
    {
     "data": {
      "text/plain": [
       "bookID                  int64\n",
       "title                  object\n",
       "authors                object\n",
       "average_rating        float64\n",
       "isbn                   object\n",
       "isbn13                  int64\n",
       "language_code          object\n",
       "  num_pages             int64\n",
       "ratings_count           int64\n",
       "text_reviews_count      int64\n",
       "publication_date       object\n",
       "publisher              object\n",
       "dtype: object"
      ]
     },
     "execution_count": 5,
     "metadata": {},
     "output_type": "execute_result"
    }
   ],
   "source": [
    "df.dtypes #checking the data types of each column"
   ]
  },
  {
   "cell_type": "code",
   "execution_count": 6,
   "metadata": {
    "execution": {
     "iopub.execute_input": "2020-10-12T08:04:39.364421Z",
     "iopub.status.busy": "2020-10-12T08:04:39.363616Z",
     "iopub.status.idle": "2020-10-12T08:04:39.399739Z",
     "shell.execute_reply": "2020-10-12T08:04:39.399138Z"
    },
    "papermill": {
     "duration": 0.087838,
     "end_time": "2020-10-12T08:04:39.399865",
     "exception": false,
     "start_time": "2020-10-12T08:04:39.312027",
     "status": "completed"
    },
    "tags": []
   },
   "outputs": [
    {
     "data": {
      "text/html": [
       "<div>\n",
       "<style scoped>\n",
       "    .dataframe tbody tr th:only-of-type {\n",
       "        vertical-align: middle;\n",
       "    }\n",
       "\n",
       "    .dataframe tbody tr th {\n",
       "        vertical-align: top;\n",
       "    }\n",
       "\n",
       "    .dataframe thead th {\n",
       "        text-align: right;\n",
       "    }\n",
       "</style>\n",
       "<table border=\"1\" class=\"dataframe\">\n",
       "  <thead>\n",
       "    <tr style=\"text-align: right;\">\n",
       "      <th></th>\n",
       "      <th>bookID</th>\n",
       "      <th>average_rating</th>\n",
       "      <th>isbn13</th>\n",
       "      <th>num_pages</th>\n",
       "      <th>ratings_count</th>\n",
       "      <th>text_reviews_count</th>\n",
       "    </tr>\n",
       "  </thead>\n",
       "  <tbody>\n",
       "    <tr>\n",
       "      <th>count</th>\n",
       "      <td>11123.000000</td>\n",
       "      <td>11123.000000</td>\n",
       "      <td>1.112300e+04</td>\n",
       "      <td>11123.000000</td>\n",
       "      <td>1.112300e+04</td>\n",
       "      <td>11123.000000</td>\n",
       "    </tr>\n",
       "    <tr>\n",
       "      <th>mean</th>\n",
       "      <td>21310.856963</td>\n",
       "      <td>3.934075</td>\n",
       "      <td>9.759880e+12</td>\n",
       "      <td>336.405556</td>\n",
       "      <td>1.794285e+04</td>\n",
       "      <td>542.048099</td>\n",
       "    </tr>\n",
       "    <tr>\n",
       "      <th>std</th>\n",
       "      <td>13094.727252</td>\n",
       "      <td>0.350485</td>\n",
       "      <td>4.429758e+11</td>\n",
       "      <td>241.152626</td>\n",
       "      <td>1.124992e+05</td>\n",
       "      <td>2576.619589</td>\n",
       "    </tr>\n",
       "    <tr>\n",
       "      <th>min</th>\n",
       "      <td>1.000000</td>\n",
       "      <td>0.000000</td>\n",
       "      <td>8.987060e+09</td>\n",
       "      <td>0.000000</td>\n",
       "      <td>0.000000e+00</td>\n",
       "      <td>0.000000</td>\n",
       "    </tr>\n",
       "    <tr>\n",
       "      <th>25%</th>\n",
       "      <td>10277.500000</td>\n",
       "      <td>3.770000</td>\n",
       "      <td>9.780345e+12</td>\n",
       "      <td>192.000000</td>\n",
       "      <td>1.040000e+02</td>\n",
       "      <td>9.000000</td>\n",
       "    </tr>\n",
       "    <tr>\n",
       "      <th>50%</th>\n",
       "      <td>20287.000000</td>\n",
       "      <td>3.960000</td>\n",
       "      <td>9.780582e+12</td>\n",
       "      <td>299.000000</td>\n",
       "      <td>7.450000e+02</td>\n",
       "      <td>47.000000</td>\n",
       "    </tr>\n",
       "    <tr>\n",
       "      <th>75%</th>\n",
       "      <td>32104.500000</td>\n",
       "      <td>4.140000</td>\n",
       "      <td>9.780872e+12</td>\n",
       "      <td>416.000000</td>\n",
       "      <td>5.000500e+03</td>\n",
       "      <td>238.000000</td>\n",
       "    </tr>\n",
       "    <tr>\n",
       "      <th>max</th>\n",
       "      <td>45641.000000</td>\n",
       "      <td>5.000000</td>\n",
       "      <td>9.790008e+12</td>\n",
       "      <td>6576.000000</td>\n",
       "      <td>4.597666e+06</td>\n",
       "      <td>94265.000000</td>\n",
       "    </tr>\n",
       "  </tbody>\n",
       "</table>\n",
       "</div>"
      ],
      "text/plain": [
       "             bookID  average_rating        isbn13     num_pages  \\\n",
       "count  11123.000000    11123.000000  1.112300e+04  11123.000000   \n",
       "mean   21310.856963        3.934075  9.759880e+12    336.405556   \n",
       "std    13094.727252        0.350485  4.429758e+11    241.152626   \n",
       "min        1.000000        0.000000  8.987060e+09      0.000000   \n",
       "25%    10277.500000        3.770000  9.780345e+12    192.000000   \n",
       "50%    20287.000000        3.960000  9.780582e+12    299.000000   \n",
       "75%    32104.500000        4.140000  9.780872e+12    416.000000   \n",
       "max    45641.000000        5.000000  9.790008e+12   6576.000000   \n",
       "\n",
       "       ratings_count  text_reviews_count  \n",
       "count   1.112300e+04        11123.000000  \n",
       "mean    1.794285e+04          542.048099  \n",
       "std     1.124992e+05         2576.619589  \n",
       "min     0.000000e+00            0.000000  \n",
       "25%     1.040000e+02            9.000000  \n",
       "50%     7.450000e+02           47.000000  \n",
       "75%     5.000500e+03          238.000000  \n",
       "max     4.597666e+06        94265.000000  "
      ]
     },
     "execution_count": 6,
     "metadata": {},
     "output_type": "execute_result"
    }
   ],
   "source": [
    "df.describe() #checking for hidden values such as the maximum rating of our books, the average number of ratings"
   ]
  },
  {
   "cell_type": "markdown",
   "metadata": {
    "papermill": {
     "duration": 0.042546,
     "end_time": "2020-10-12T08:04:39.485749",
     "exception": false,
     "start_time": "2020-10-12T08:04:39.443203",
     "status": "completed"
    },
    "tags": []
   },
   "source": [
    "From the above results, we can see that our our ratings all lie between 0 and 5. We get know more about the other columns as well, such as the mean of average ratings and some other information that might help us in the future steps. We also checked the data types of each column and also saw that there are no null values present in our data."
   ]
  },
  {
   "cell_type": "code",
   "execution_count": 7,
   "metadata": {
    "execution": {
     "iopub.execute_input": "2020-10-12T08:04:39.577974Z",
     "iopub.status.busy": "2020-10-12T08:04:39.577187Z",
     "iopub.status.idle": "2020-10-12T08:04:39.619585Z",
     "shell.execute_reply": "2020-10-12T08:04:39.618909Z"
    },
    "papermill": {
     "duration": 0.091133,
     "end_time": "2020-10-12T08:04:39.619710",
     "exception": false,
     "start_time": "2020-10-12T08:04:39.528577",
     "status": "completed"
    },
    "tags": []
   },
   "outputs": [
    {
     "data": {
      "text/html": [
       "<div>\n",
       "<style scoped>\n",
       "    .dataframe tbody tr th:only-of-type {\n",
       "        vertical-align: middle;\n",
       "    }\n",
       "\n",
       "    .dataframe tbody tr th {\n",
       "        vertical-align: top;\n",
       "    }\n",
       "\n",
       "    .dataframe thead th {\n",
       "        text-align: right;\n",
       "    }\n",
       "</style>\n",
       "<table border=\"1\" class=\"dataframe\">\n",
       "  <thead>\n",
       "    <tr style=\"text-align: right;\">\n",
       "      <th></th>\n",
       "      <th>bookID</th>\n",
       "      <th>title</th>\n",
       "      <th>authors</th>\n",
       "      <th>average_rating</th>\n",
       "      <th>isbn</th>\n",
       "      <th>isbn13</th>\n",
       "      <th>language_code</th>\n",
       "      <th>num_pages</th>\n",
       "      <th>ratings_count</th>\n",
       "      <th>text_reviews_count</th>\n",
       "      <th>publication_date</th>\n",
       "      <th>publisher</th>\n",
       "    </tr>\n",
       "  </thead>\n",
       "  <tbody>\n",
       "    <tr>\n",
       "      <th>0</th>\n",
       "      <td>1</td>\n",
       "      <td>Harry Potter and the Half-Blood Prince (Harry ...</td>\n",
       "      <td>J.K. Rowling/Mary GrandPré</td>\n",
       "      <td>4.57</td>\n",
       "      <td>0439785960</td>\n",
       "      <td>9780439785969</td>\n",
       "      <td>eng</td>\n",
       "      <td>652</td>\n",
       "      <td>2095690</td>\n",
       "      <td>27591</td>\n",
       "      <td>9/16/2006</td>\n",
       "      <td>Scholastic Inc.</td>\n",
       "    </tr>\n",
       "    <tr>\n",
       "      <th>3</th>\n",
       "      <td>5</td>\n",
       "      <td>Harry Potter and the Prisoner of Azkaban (Harr...</td>\n",
       "      <td>J.K. Rowling/Mary GrandPré</td>\n",
       "      <td>4.56</td>\n",
       "      <td>043965548X</td>\n",
       "      <td>9780439655484</td>\n",
       "      <td>eng</td>\n",
       "      <td>435</td>\n",
       "      <td>2339585</td>\n",
       "      <td>36325</td>\n",
       "      <td>5/1/2004</td>\n",
       "      <td>Scholastic Inc.</td>\n",
       "    </tr>\n",
       "    <tr>\n",
       "      <th>1</th>\n",
       "      <td>2</td>\n",
       "      <td>Harry Potter and the Order of the Phoenix (Har...</td>\n",
       "      <td>J.K. Rowling/Mary GrandPré</td>\n",
       "      <td>4.49</td>\n",
       "      <td>0439358078</td>\n",
       "      <td>9780439358071</td>\n",
       "      <td>eng</td>\n",
       "      <td>870</td>\n",
       "      <td>2153167</td>\n",
       "      <td>29221</td>\n",
       "      <td>9/1/2004</td>\n",
       "      <td>Scholastic Inc.</td>\n",
       "    </tr>\n",
       "    <tr>\n",
       "      <th>4415</th>\n",
       "      <td>15881</td>\n",
       "      <td>Harry Potter and the Chamber of Secrets (Harry...</td>\n",
       "      <td>J.K. Rowling/Mary GrandPré</td>\n",
       "      <td>4.42</td>\n",
       "      <td>0439064864</td>\n",
       "      <td>9780439064866</td>\n",
       "      <td>eng</td>\n",
       "      <td>341</td>\n",
       "      <td>2293963</td>\n",
       "      <td>34692</td>\n",
       "      <td>6/2/1999</td>\n",
       "      <td>Arthur A. Levine Books / Scholastic Inc.</td>\n",
       "    </tr>\n",
       "    <tr>\n",
       "      <th>5270</th>\n",
       "      <td>19063</td>\n",
       "      <td>The Book Thief</td>\n",
       "      <td>Markus Zusak/Cao Xuân Việt Khương</td>\n",
       "      <td>4.37</td>\n",
       "      <td>0375831002</td>\n",
       "      <td>9780375831003</td>\n",
       "      <td>eng</td>\n",
       "      <td>552</td>\n",
       "      <td>1516367</td>\n",
       "      <td>86881</td>\n",
       "      <td>3/14/2006</td>\n",
       "      <td>Alfred A. Knopf</td>\n",
       "    </tr>\n",
       "    <tr>\n",
       "      <th>23</th>\n",
       "      <td>34</td>\n",
       "      <td>The Fellowship of the Ring (The Lord of the Ri...</td>\n",
       "      <td>J.R.R. Tolkien</td>\n",
       "      <td>4.36</td>\n",
       "      <td>0618346252</td>\n",
       "      <td>9780618346257</td>\n",
       "      <td>eng</td>\n",
       "      <td>398</td>\n",
       "      <td>2128944</td>\n",
       "      <td>13670</td>\n",
       "      <td>9/5/2003</td>\n",
       "      <td>Houghton Mifflin Harcourt</td>\n",
       "    </tr>\n",
       "    <tr>\n",
       "      <th>1697</th>\n",
       "      <td>5907</td>\n",
       "      <td>The Hobbit  or There and Back Again</td>\n",
       "      <td>J.R.R. Tolkien</td>\n",
       "      <td>4.27</td>\n",
       "      <td>0618260307</td>\n",
       "      <td>9780618260300</td>\n",
       "      <td>eng</td>\n",
       "      <td>366</td>\n",
       "      <td>2530894</td>\n",
       "      <td>32871</td>\n",
       "      <td>8/15/2002</td>\n",
       "      <td>Houghton Mifflin</td>\n",
       "    </tr>\n",
       "    <tr>\n",
       "      <th>7309</th>\n",
       "      <td>28187</td>\n",
       "      <td>The Lightning Thief (Percy Jackson and the Oly...</td>\n",
       "      <td>Rick Riordan</td>\n",
       "      <td>4.25</td>\n",
       "      <td>0786838655</td>\n",
       "      <td>9780786838653</td>\n",
       "      <td>eng</td>\n",
       "      <td>375</td>\n",
       "      <td>1766725</td>\n",
       "      <td>47951</td>\n",
       "      <td>3/1/2006</td>\n",
       "      <td>Disney Hyperion Books</td>\n",
       "    </tr>\n",
       "    <tr>\n",
       "      <th>6422</th>\n",
       "      <td>24178</td>\n",
       "      <td>Charlotte's Web</td>\n",
       "      <td>E.B. White/Garth Williams/Rosemary Wells</td>\n",
       "      <td>4.17</td>\n",
       "      <td>0064410935</td>\n",
       "      <td>9780064410939</td>\n",
       "      <td>eng</td>\n",
       "      <td>184</td>\n",
       "      <td>1300470</td>\n",
       "      <td>14739</td>\n",
       "      <td>10/1/2001</td>\n",
       "      <td>HarperCollinsPublishers</td>\n",
       "    </tr>\n",
       "    <tr>\n",
       "      <th>1069</th>\n",
       "      <td>3636</td>\n",
       "      <td>The Giver (The Giver  #1)</td>\n",
       "      <td>Lois Lowry</td>\n",
       "      <td>4.13</td>\n",
       "      <td>0385732554</td>\n",
       "      <td>9780385732550</td>\n",
       "      <td>eng</td>\n",
       "      <td>208</td>\n",
       "      <td>1585589</td>\n",
       "      <td>56604</td>\n",
       "      <td>1/24/2006</td>\n",
       "      <td>Ember</td>\n",
       "    </tr>\n",
       "  </tbody>\n",
       "</table>\n",
       "</div>"
      ],
      "text/plain": [
       "      bookID                                              title  \\\n",
       "0          1  Harry Potter and the Half-Blood Prince (Harry ...   \n",
       "3          5  Harry Potter and the Prisoner of Azkaban (Harr...   \n",
       "1          2  Harry Potter and the Order of the Phoenix (Har...   \n",
       "4415   15881  Harry Potter and the Chamber of Secrets (Harry...   \n",
       "5270   19063                                     The Book Thief   \n",
       "23        34  The Fellowship of the Ring (The Lord of the Ri...   \n",
       "1697    5907                The Hobbit  or There and Back Again   \n",
       "7309   28187  The Lightning Thief (Percy Jackson and the Oly...   \n",
       "6422   24178                                    Charlotte's Web   \n",
       "1069    3636                          The Giver (The Giver  #1)   \n",
       "\n",
       "                                       authors  average_rating        isbn  \\\n",
       "0                   J.K. Rowling/Mary GrandPré            4.57  0439785960   \n",
       "3                   J.K. Rowling/Mary GrandPré            4.56  043965548X   \n",
       "1                   J.K. Rowling/Mary GrandPré            4.49  0439358078   \n",
       "4415                J.K. Rowling/Mary GrandPré            4.42  0439064864   \n",
       "5270         Markus Zusak/Cao Xuân Việt Khương            4.37  0375831002   \n",
       "23                              J.R.R. Tolkien            4.36  0618346252   \n",
       "1697                            J.R.R. Tolkien            4.27  0618260307   \n",
       "7309                              Rick Riordan            4.25  0786838655   \n",
       "6422  E.B. White/Garth Williams/Rosemary Wells            4.17  0064410935   \n",
       "1069                                Lois Lowry            4.13  0385732554   \n",
       "\n",
       "             isbn13 language_code    num_pages  ratings_count  \\\n",
       "0     9780439785969           eng          652        2095690   \n",
       "3     9780439655484           eng          435        2339585   \n",
       "1     9780439358071           eng          870        2153167   \n",
       "4415  9780439064866           eng          341        2293963   \n",
       "5270  9780375831003           eng          552        1516367   \n",
       "23    9780618346257           eng          398        2128944   \n",
       "1697  9780618260300           eng          366        2530894   \n",
       "7309  9780786838653           eng          375        1766725   \n",
       "6422  9780064410939           eng          184        1300470   \n",
       "1069  9780385732550           eng          208        1585589   \n",
       "\n",
       "      text_reviews_count publication_date  \\\n",
       "0                  27591        9/16/2006   \n",
       "3                  36325         5/1/2004   \n",
       "1                  29221         9/1/2004   \n",
       "4415               34692         6/2/1999   \n",
       "5270               86881        3/14/2006   \n",
       "23                 13670         9/5/2003   \n",
       "1697               32871        8/15/2002   \n",
       "7309               47951         3/1/2006   \n",
       "6422               14739        10/1/2001   \n",
       "1069               56604        1/24/2006   \n",
       "\n",
       "                                     publisher  \n",
       "0                              Scholastic Inc.  \n",
       "3                              Scholastic Inc.  \n",
       "1                              Scholastic Inc.  \n",
       "4415  Arthur A. Levine Books / Scholastic Inc.  \n",
       "5270                           Alfred A. Knopf  \n",
       "23                   Houghton Mifflin Harcourt  \n",
       "1697                          Houghton Mifflin  \n",
       "7309                     Disney Hyperion Books  \n",
       "6422                   HarperCollinsPublishers  \n",
       "1069                                     Ember  "
      ]
     },
     "execution_count": 7,
     "metadata": {},
     "output_type": "execute_result"
    }
   ],
   "source": [
    "top_ten = df[df['ratings_count'] > 1000000]\n",
    "top_ten.sort_values(by='average_rating', ascending=False).head(10)"
   ]
  },
  {
   "cell_type": "markdown",
   "metadata": {
    "papermill": {
     "duration": 0.043683,
     "end_time": "2020-10-12T08:04:39.709932",
     "exception": false,
     "start_time": "2020-10-12T08:04:39.666249",
     "status": "completed"
    },
    "tags": []
   },
   "source": [
    "The above results show us the top 10 books present in our data. We saw that the maximum rating in our data was 5.0 but we dont see any books in the above result with 5.0 rating. This is because we filtered these books on the basis of the number of ratings. We made sure that all the books that we have in the above results have a decent amount of rating. There can be books in the data that can have only 1 or 2 ratings can be rated 5.0. We want to avoid such books hence this sort of filtering. Let's go ahead and visualize this outcome in form of a graph."
   ]
  },
  {
   "cell_type": "code",
   "execution_count": 8,
   "metadata": {
    "execution": {
     "iopub.execute_input": "2020-10-12T08:04:39.805174Z",
     "iopub.status.busy": "2020-10-12T08:04:39.804369Z",
     "iopub.status.idle": "2020-10-12T08:04:40.133341Z",
     "shell.execute_reply": "2020-10-12T08:04:40.132631Z"
    },
    "papermill": {
     "duration": 0.379984,
     "end_time": "2020-10-12T08:04:40.133482",
     "exception": false,
     "start_time": "2020-10-12T08:04:39.753498",
     "status": "completed"
    },
    "tags": []
   },
   "outputs": [
    {
     "data": {
      "text/plain": [
       "<matplotlib.axes._subplots.AxesSubplot at 0x7fb7fc3bf650>"
      ]
     },
     "execution_count": 8,
     "metadata": {},
     "output_type": "execute_result"
    },
    {
     "data": {
      "image/png": "[encoded data removed]",
      "text/plain": [
       "<Figure size 720x720 with 1 Axes>"
      ]
     },
     "metadata": {},
     "output_type": "display_data"
    }
   ],
   "source": [
    "plt.style.use('seaborn-whitegrid')\n",
    "plt.figure(figsize=(10, 10))\n",
    "data = top_ten.sort_values(by='average_rating', ascending=False).head(10)\n",
    "sns.barplot(x=\"average_rating\", y=\"title\", data=data, palette='inferno')"
   ]
  },
  {
   "cell_type": "markdown",
   "metadata": {
    "papermill": {
     "duration": 0.045957,
     "end_time": "2020-10-12T08:04:40.230770",
     "exception": false,
     "start_time": "2020-10-12T08:04:40.184813",
     "status": "completed"
    },
    "tags": []
   },
   "source": [
    "Let's go ahead and take a look at some top authors present in our data. We will rank them according to the number of books they have written provided these books are present in the data."
   ]
  },
  {
   "cell_type": "code",
   "execution_count": 9,
   "metadata": {
    "execution": {
     "iopub.execute_input": "2020-10-12T08:04:40.336279Z",
     "iopub.status.busy": "2020-10-12T08:04:40.335497Z",
     "iopub.status.idle": "2020-10-12T08:04:40.652195Z",
     "shell.execute_reply": "2020-10-12T08:04:40.651419Z"
    },
    "papermill": {
     "duration": 0.374922,
     "end_time": "2020-10-12T08:04:40.652343",
     "exception": false,
     "start_time": "2020-10-12T08:04:40.277421",
     "status": "completed"
    },
    "tags": []
   },
   "outputs": [
    {
     "data": {
      "image/png": "[encoded data removed]",
      "text/plain": [
       "<Figure size 1080x720 with 1 Axes>"
      ]
     },
     "metadata": {},
     "output_type": "display_data"
    }
   ],
   "source": [
    "most_books = df.groupby('authors')['title'].count().reset_index().sort_values('title', ascending=False).head(10).set_index('authors')\n",
    "plt.figure(figsize=(15,10))\n",
    "ax = sns.barplot(most_books['title'], most_books.index, palette='inferno')\n",
    "ax.set_title(\"Top 10 authors with most books\")\n",
    "ax.set_xlabel(\"Total number of books\")\n",
    "totals = []\n",
    "for i in ax.patches:\n",
    "    totals.append(i.get_width())\n",
    "total = sum(totals)\n",
    "for i in ax.patches:\n",
    "    ax.text(i.get_width()+.2, i.get_y()+.2,str(round(i.get_width())), fontsize=15,color='black')\n",
    "plt.show()"
   ]
  },
  {
   "cell_type": "markdown",
   "metadata": {
    "papermill": {
     "duration": 0.048392,
     "end_time": "2020-10-12T08:04:40.748922",
     "exception": false,
     "start_time": "2020-10-12T08:04:40.700530",
     "status": "completed"
    },
    "tags": []
   },
   "source": [
    "According to our graphs, Stephen king and P.G. Wodehouse have the most number of books in the data. Both the authors have 40 books in our data set followed by Rumiko Takahashi and Orson scott Card."
   ]
  },
  {
   "cell_type": "code",
   "execution_count": 10,
   "metadata": {
    "execution": {
     "iopub.execute_input": "2020-10-12T08:04:40.849637Z",
     "iopub.status.busy": "2020-10-12T08:04:40.848866Z",
     "iopub.status.idle": "2020-10-12T08:04:40.851992Z",
     "shell.execute_reply": "2020-10-12T08:04:40.851429Z"
    },
    "papermill": {
     "duration": 0.055187,
     "end_time": "2020-10-12T08:04:40.852130",
     "exception": false,
     "start_time": "2020-10-12T08:04:40.796943",
     "status": "completed"
    },
    "tags": []
   },
   "outputs": [],
   "source": [
    "#df.head()"
   ]
  },
  {
   "cell_type": "markdown",
   "metadata": {
    "papermill": {
     "duration": 0.047722,
     "end_time": "2020-10-12T08:04:40.947672",
     "exception": false,
     "start_time": "2020-10-12T08:04:40.899950",
     "status": "completed"
    },
    "tags": []
   },
   "source": [
    "Next we will take a look at the books that have been reviewed the most. We have the average ratings column in our data and also the number of times a particular book has been rated. We will try to use this column to find out most reviewed Books present in our data."
   ]
  },
  {
   "cell_type": "code",
   "execution_count": 11,
   "metadata": {
    "execution": {
     "iopub.execute_input": "2020-10-12T08:04:41.054833Z",
     "iopub.status.busy": "2020-10-12T08:04:41.053602Z",
     "iopub.status.idle": "2020-10-12T08:04:41.446557Z",
     "shell.execute_reply": "2020-10-12T08:04:41.445909Z"
    },
    "papermill": {
     "duration": 0.451208,
     "end_time": "2020-10-12T08:04:41.446691",
     "exception": false,
     "start_time": "2020-10-12T08:04:40.995483",
     "status": "completed"
    },
    "tags": []
   },
   "outputs": [
    {
     "data": {
      "image/png": "[encoded data removed]",
      "text/plain": [
       "<Figure size 1080x720 with 1 Axes>"
      ]
     },
     "metadata": {},
     "output_type": "display_data"
    }
   ],
   "source": [
    "most_rated = df.sort_values('ratings_count', ascending = False).head(10).set_index('title')\n",
    "plt.figure(figsize=(15,10))\n",
    "ax = sns.barplot(most_rated['ratings_count'], most_rated.index, palette = 'inferno')\n",
    "totals = []\n",
    "for i in ax.patches:\n",
    "    totals.append(i.get_width())\n",
    "total = sum(totals)\n",
    "for i in ax.patches:\n",
    "    ax.text(i.get_width()+.2, i.get_y()+.2,str(round(i.get_width())), fontsize=15,color='black')\n",
    "plt.show()"
   ]
  },
  {
   "cell_type": "markdown",
   "metadata": {
    "papermill": {
     "duration": 0.050219,
     "end_time": "2020-10-12T08:04:41.547583",
     "exception": false,
     "start_time": "2020-10-12T08:04:41.497364",
     "status": "completed"
    },
    "tags": []
   },
   "source": [
    "We can see that Twilight has been rated more number of times as compared to any other book! Also, these ratings are all in Millions! So that means twilight was rated more than 4 Million times followed by The Hobbit or There and Back Again and The Catcher in the Rye which have been reviewed more than 2 Million times!"
   ]
  },
  {
   "cell_type": "markdown",
   "metadata": {
    "papermill": {
     "duration": 0.050741,
     "end_time": "2020-10-12T08:04:41.649488",
     "exception": false,
     "start_time": "2020-10-12T08:04:41.598747",
     "status": "completed"
    },
    "tags": []
   },
   "source": [
    "Now we know that these books can be written in many different languages. We will use the language code to check how many books were written in each language."
   ]
  },
  {
   "cell_type": "code",
   "execution_count": 12,
   "metadata": {
    "execution": {
     "iopub.execute_input": "2020-10-12T08:04:41.770280Z",
     "iopub.status.busy": "2020-10-12T08:04:41.769493Z",
     "iopub.status.idle": "2020-10-12T08:04:42.047886Z",
     "shell.execute_reply": "2020-10-12T08:04:42.048561Z"
    },
    "papermill": {
     "duration": 0.347048,
     "end_time": "2020-10-12T08:04:42.048744",
     "exception": false,
     "start_time": "2020-10-12T08:04:41.701696",
     "status": "completed"
    },
    "tags": []
   },
   "outputs": [
    {
     "data": {
      "text/plain": [
       "<matplotlib.axes._subplots.AxesSubplot at 0x7fb7ef537b50>"
      ]
     },
     "execution_count": 12,
     "metadata": {},
     "output_type": "execute_result"
    },
    {
     "data": {
      "image/png": "[encoded data removed]",
      "text/plain": [
       "<Figure size 1800x720 with 1 Axes>"
      ]
     },
     "metadata": {},
     "output_type": "display_data"
    }
   ],
   "source": [
    "plt.figure(1, figsize=(25,10))\n",
    "plt.title(\"Languages\")\n",
    "sns.countplot(x = \"language_code\", order=df['language_code'].value_counts().index[0:10] ,data=df,palette='inferno')"
   ]
  },
  {
   "cell_type": "markdown",
   "metadata": {
    "papermill": {
     "duration": 0.052422,
     "end_time": "2020-10-12T08:04:42.159965",
     "exception": false,
     "start_time": "2020-10-12T08:04:42.107543",
     "status": "completed"
    },
    "tags": []
   },
   "source": [
    "We can see most of the Books are written in english be it US or UK which was quite obvious but in order to check it thoroughly, we had to make this plot. We also have languages like Japanese and German but these aren't very prominent."
   ]
  },
  {
   "cell_type": "markdown",
   "metadata": {
    "papermill": {
     "duration": 0.051897,
     "end_time": "2020-10-12T08:04:42.263378",
     "exception": false,
     "start_time": "2020-10-12T08:04:42.211481",
     "status": "completed"
    },
    "tags": []
   },
   "source": [
    "There are tons of great and famous authors present in our data. Our next goal is to figure out the top 10 authors present in our data based on the average ratings on their books. We will filter out the authors based upon how many of their books have average rating above 4.4."
   ]
  },
  {
   "cell_type": "code",
   "execution_count": 13,
   "metadata": {
    "execution": {
     "iopub.execute_input": "2020-10-12T08:04:42.382079Z",
     "iopub.status.busy": "2020-10-12T08:04:42.380900Z",
     "iopub.status.idle": "2020-10-12T08:04:42.698555Z",
     "shell.execute_reply": "2020-10-12T08:04:42.697952Z"
    },
    "papermill": {
     "duration": 0.383446,
     "end_time": "2020-10-12T08:04:42.698681",
     "exception": false,
     "start_time": "2020-10-12T08:04:42.315235",
     "status": "completed"
    },
    "tags": []
   },
   "outputs": [
    {
     "name": "stderr",
     "output_type": "stream",
     "text": [
      "/opt/conda/lib/python3.7/site-packages/matplotlib/backends/backend_agg.py:214: RuntimeWarning: Glyph 33618 missing from current font.\n",
      "  font.set_text(s, 0.0, flags=flags)\n",
      "/opt/conda/lib/python3.7/site-packages/matplotlib/backends/backend_agg.py:214: RuntimeWarning: Glyph 24029 missing from current font.\n",
      "  font.set_text(s, 0.0, flags=flags)\n",
      "/opt/conda/lib/python3.7/site-packages/matplotlib/backends/backend_agg.py:214: RuntimeWarning: Glyph 24344 missing from current font.\n",
      "  font.set_text(s, 0.0, flags=flags)\n",
      "/opt/conda/lib/python3.7/site-packages/matplotlib/backends/backend_agg.py:214: RuntimeWarning: Glyph 26041 missing from current font.\n",
      "  font.set_text(s, 0.0, flags=flags)\n",
      "/opt/conda/lib/python3.7/site-packages/matplotlib/backends/backend_agg.py:214: RuntimeWarning: Glyph 37057 missing from current font.\n",
      "  font.set_text(s, 0.0, flags=flags)\n",
      "/opt/conda/lib/python3.7/site-packages/matplotlib/backends/backend_agg.py:214: RuntimeWarning: Glyph 20161 missing from current font.\n",
      "  font.set_text(s, 0.0, flags=flags)\n",
      "/opt/conda/lib/python3.7/site-packages/matplotlib/backends/backend_agg.py:183: RuntimeWarning: Glyph 33618 missing from current font.\n",
      "  font.set_text(s, 0, flags=flags)\n",
      "/opt/conda/lib/python3.7/site-packages/matplotlib/backends/backend_agg.py:183: RuntimeWarning: Glyph 24029 missing from current font.\n",
      "  font.set_text(s, 0, flags=flags)\n",
      "/opt/conda/lib/python3.7/site-packages/matplotlib/backends/backend_agg.py:183: RuntimeWarning: Glyph 24344 missing from current font.\n",
      "  font.set_text(s, 0, flags=flags)\n",
      "/opt/conda/lib/python3.7/site-packages/matplotlib/backends/backend_agg.py:183: RuntimeWarning: Glyph 26041 missing from current font.\n",
      "  font.set_text(s, 0, flags=flags)\n",
      "/opt/conda/lib/python3.7/site-packages/matplotlib/backends/backend_agg.py:183: RuntimeWarning: Glyph 37057 missing from current font.\n",
      "  font.set_text(s, 0, flags=flags)\n",
      "/opt/conda/lib/python3.7/site-packages/matplotlib/backends/backend_agg.py:183: RuntimeWarning: Glyph 20161 missing from current font.\n",
      "  font.set_text(s, 0, flags=flags)\n"
     ]
    },
    {
     "data": {
      "image/png": "[encoded data removed]",
      "text/plain": [
       "<Figure size 1080x720 with 1 Axes>"
      ]
     },
     "metadata": {},
     "output_type": "display_data"
    }
   ],
   "source": [
    "highly_rated_author =df[df['average_rating']>4.4]\n",
    "highly_rated_author = highly_rated_author.groupby('authors')['title'].count().reset_index().sort_values('title',ascending=False).head(10).set_index('authors')\n",
    "plt.subplots(figsize=(15,10))\n",
    "ax = highly_rated_author['title'].sort_values().plot.barh(width=0.9,color=sns.color_palette('inferno',12))\n",
    "ax.set_xlabel(\"Total books \", fontsize=15)\n",
    "ax.set_ylabel(\"Authors\", fontsize=15)\n",
    "ax.set_title(\"Top 10 highly rated authors\",fontsize=20,color='black')\n",
    "totals = []\n",
    "for i in ax.patches:\n",
    "    totals.append(i.get_width())\n",
    "total = sum(totals)\n",
    "for i in ax.patches:\n",
    "    ax.text(i.get_width()+.2, i.get_y()+.2,str(round(i.get_width())), fontsize=15,color='black')\n",
    "plt.show()"
   ]
  },
  {
   "cell_type": "markdown",
   "metadata": {
    "papermill": {
     "duration": 0.053352,
     "end_time": "2020-10-12T08:04:42.806066",
     "exception": false,
     "start_time": "2020-10-12T08:04:42.752714",
     "status": "completed"
    },
    "tags": []
   },
   "source": [
    "From the above graph we can see that Hiromu arkawa is the highest rated author in our data set follwed by J.K Rowling and some other big names. Now that we know about our authors, we will go and take a look at our top publishers as well."
   ]
  },
  {
   "cell_type": "code",
   "execution_count": 14,
   "metadata": {
    "execution": {
     "iopub.execute_input": "2020-10-12T08:04:42.927661Z",
     "iopub.status.busy": "2020-10-12T08:04:42.926863Z",
     "iopub.status.idle": "2020-10-12T08:04:43.198850Z",
     "shell.execute_reply": "2020-10-12T08:04:43.199462Z"
    },
    "papermill": {
     "duration": 0.339933,
     "end_time": "2020-10-12T08:04:43.199634",
     "exception": false,
     "start_time": "2020-10-12T08:04:42.859701",
     "status": "completed"
    },
    "tags": []
   },
   "outputs": [
    {
     "data": {
      "image/png": "[encoded data removed]",
      "text/plain": [
       "<Figure size 1080x720 with 1 Axes>"
      ]
     },
     "metadata": {},
     "output_type": "display_data"
    }
   ],
   "source": [
    "top_publishers = df.groupby('publisher')['title'].count().reset_index().sort_values('title',ascending=False).head(10).set_index('publisher')\n",
    "plt.subplots(figsize=(15,10))\n",
    "ax = top_publishers['title'].sort_values().plot.barh(width=0.9,color=sns.color_palette('inferno',12))\n",
    "ax.set_xlabel(\"Total books \", fontsize=15)\n",
    "ax.set_ylabel(\"Publishers\", fontsize=15)\n",
    "ax.set_title(\"Top 10 Publishers Present in our data\",fontsize=20,color='black')\n",
    "totals = []\n",
    "for i in ax.patches:\n",
    "    totals.append(i.get_width())\n",
    "total = sum(totals)\n",
    "for i in ax.patches:\n",
    "    ax.text(i.get_width()+.2, i.get_y()+.2,str(round(i.get_width())), fontsize=15,color='black')\n",
    "plt.show()"
   ]
  },
  {
   "cell_type": "markdown",
   "metadata": {
    "papermill": {
     "duration": 0.055502,
     "end_time": "2020-10-12T08:04:43.311652",
     "exception": false,
     "start_time": "2020-10-12T08:04:43.256150",
     "status": "completed"
    },
    "tags": []
   },
   "source": [
    "Vintage are the Most famous publishers present in our data followed by Penguin Books and Penguin Classics."
   ]
  },
  {
   "cell_type": "markdown",
   "metadata": {
    "papermill": {
     "duration": 0.055118,
     "end_time": "2020-10-12T08:04:43.421973",
     "exception": false,
     "start_time": "2020-10-12T08:04:43.366855",
     "status": "completed"
    },
    "tags": []
   },
   "source": [
    "Next up, we will have a look at the distribution of average ratings, this will be very important for us when we go on to make our recommender."
   ]
  },
  {
   "cell_type": "code",
   "execution_count": 15,
   "metadata": {
    "execution": {
     "iopub.execute_input": "2020-10-12T08:04:43.549319Z",
     "iopub.status.busy": "2020-10-12T08:04:43.542617Z",
     "iopub.status.idle": "2020-10-12T08:04:43.899220Z",
     "shell.execute_reply": "2020-10-12T08:04:43.898251Z"
    },
    "papermill": {
     "duration": 0.420666,
     "end_time": "2020-10-12T08:04:43.899396",
     "exception": false,
     "start_time": "2020-10-12T08:04:43.478730",
     "status": "completed"
    },
    "tags": []
   },
   "outputs": [
    {
     "data": {
      "text/plain": [
       "Text(0.5, 0, 'Average rating')"
      ]
     },
     "execution_count": 15,
     "metadata": {},
     "output_type": "execute_result"
    },
    {
     "data": {
      "image/png": "[encoded data removed]",
      "text/plain": [
       "<Figure size 1080x720 with 1 Axes>"
      ]
     },
     "metadata": {},
     "output_type": "display_data"
    }
   ],
   "source": [
    "df.average_rating = df.average_rating.astype(float)\n",
    "fig, ax = plt.subplots(figsize=[15,10])\n",
    "sns.distplot(df['average_rating'],ax=ax)\n",
    "ax.set_title('Average rating distribution for all books',fontsize=20)\n",
    "ax.set_xlabel('Average rating',fontsize=13)"
   ]
  },
  {
   "cell_type": "markdown",
   "metadata": {
    "papermill": {
     "duration": 0.058154,
     "end_time": "2020-10-12T08:04:44.017069",
     "exception": false,
     "start_time": "2020-10-12T08:04:43.958915",
     "status": "completed"
    },
    "tags": []
   },
   "source": [
    "So as we can see, majority of our rating fall between 3 and 4.5. There are hardly any books that have been rated a 1 or a 2 and same goes with 5."
   ]
  },
  {
   "cell_type": "code",
   "execution_count": 16,
   "metadata": {
    "execution": {
     "iopub.execute_input": "2020-10-12T08:04:44.146317Z",
     "iopub.status.busy": "2020-10-12T08:04:44.145195Z",
     "iopub.status.idle": "2020-10-12T08:04:44.159238Z",
     "shell.execute_reply": "2020-10-12T08:04:44.160106Z"
    },
    "papermill": {
     "duration": 0.085775,
     "end_time": "2020-10-12T08:04:44.160350",
     "exception": false,
     "start_time": "2020-10-12T08:04:44.074575",
     "status": "completed"
    },
    "tags": []
   },
   "outputs": [
    {
     "name": "stdout",
     "output_type": "stream",
     "text": [
      "<class 'pandas.core.frame.DataFrame'>\n",
      "RangeIndex: 11123 entries, 0 to 11122\n",
      "Data columns (total 12 columns):\n",
      " #   Column              Non-Null Count  Dtype  \n",
      "---  ------              --------------  -----  \n",
      " 0   bookID              11123 non-null  int64  \n",
      " 1   title               11123 non-null  object \n",
      " 2   authors             11123 non-null  object \n",
      " 3   average_rating      11123 non-null  float64\n",
      " 4   isbn                11123 non-null  object \n",
      " 5   isbn13              11123 non-null  int64  \n",
      " 6   language_code       11123 non-null  object \n",
      " 7     num_pages         11123 non-null  int64  \n",
      " 8   ratings_count       11123 non-null  int64  \n",
      " 9   text_reviews_count  11123 non-null  int64  \n",
      " 10  publication_date    11123 non-null  object \n",
      " 11  publisher           11123 non-null  object \n",
      "dtypes: float64(1), int64(5), object(6)\n",
      "memory usage: 1.0+ MB\n"
     ]
    }
   ],
   "source": [
    "df.info()"
   ]
  },
  {
   "cell_type": "markdown",
   "metadata": {
    "papermill": {
     "duration": 0.058518,
     "end_time": "2020-10-12T08:04:44.277516",
     "exception": false,
     "start_time": "2020-10-12T08:04:44.218998",
     "status": "completed"
    },
    "tags": []
   },
   "source": [
    "Let's try and find some relation between our average rating and the rating counts. We are doing this to see how we can use these columns in our recommender. We will also check the distribution of average ratings with Number of pages of a book, the language used in the Book and the Number of Text reviews."
   ]
  },
  {
   "cell_type": "code",
   "execution_count": 17,
   "metadata": {
    "execution": {
     "iopub.execute_input": "2020-10-12T08:04:44.416694Z",
     "iopub.status.busy": "2020-10-12T08:04:44.410761Z",
     "iopub.status.idle": "2020-10-12T08:04:44.717462Z",
     "shell.execute_reply": "2020-10-12T08:04:44.716850Z"
    },
    "papermill": {
     "duration": 0.381302,
     "end_time": "2020-10-12T08:04:44.717598",
     "exception": false,
     "start_time": "2020-10-12T08:04:44.336296",
     "status": "completed"
    },
    "tags": []
   },
   "outputs": [
    {
     "data": {
      "text/plain": [
       "<seaborn.axisgrid.FacetGrid at 0x7fb7ed543390>"
      ]
     },
     "execution_count": 17,
     "metadata": {},
     "output_type": "execute_result"
    },
    {
     "data": {
      "image/png": "[encoded data removed]",
      "text/plain": [
       "<Figure size 504x504 with 1 Axes>"
      ]
     },
     "metadata": {},
     "output_type": "display_data"
    }
   ],
   "source": [
    "ax = sns.relplot(data=df, x=\"average_rating\", y=\"ratings_count\", color = 'red', sizes=(100, 200), height=7, marker='o')\n",
    "plt.title(\"Relation between Rating counts and Average Ratings\",fontsize = 15)\n",
    "ax.set_axis_labels(\"Average Rating\", \"Ratings Count\")"
   ]
  },
  {
   "cell_type": "code",
   "execution_count": 18,
   "metadata": {
    "execution": {
     "iopub.execute_input": "2020-10-12T08:04:44.847621Z",
     "iopub.status.busy": "2020-10-12T08:04:44.846516Z",
     "iopub.status.idle": "2020-10-12T08:04:45.148088Z",
     "shell.execute_reply": "2020-10-12T08:04:45.147467Z"
    },
    "papermill": {
     "duration": 0.37067,
     "end_time": "2020-10-12T08:04:45.148211",
     "exception": false,
     "start_time": "2020-10-12T08:04:44.777541",
     "status": "completed"
    },
    "tags": []
   },
   "outputs": [
    {
     "data": {
      "text/plain": [
       "<seaborn.axisgrid.FacetGrid at 0x7fb7ed52ff50>"
      ]
     },
     "execution_count": 18,
     "metadata": {},
     "output_type": "execute_result"
    },
    {
     "data": {
      "text/plain": [
       "<Figure size 1080x720 with 0 Axes>"
      ]
     },
     "metadata": {},
     "output_type": "display_data"
    },
    {
     "data": {
      "image/png": "[encoded data removed]",
      "text/plain": [
       "<Figure size 504x504 with 1 Axes>"
      ]
     },
     "metadata": {},
     "output_type": "display_data"
    }
   ],
   "source": [
    "plt.figure(figsize=(15,10))\n",
    "ax = sns.relplot(x=\"average_rating\", y=\"  num_pages\", data = df, color = 'red',sizes=(100, 200), height=7, marker='o')\n",
    "ax.set_axis_labels(\"Average Rating\", \"Number of Pages\")"
   ]
  },
  {
   "cell_type": "code",
   "execution_count": 19,
   "metadata": {
    "execution": {
     "iopub.execute_input": "2020-10-12T08:04:45.286680Z",
     "iopub.status.busy": "2020-10-12T08:04:45.282846Z",
     "iopub.status.idle": "2020-10-12T08:04:45.646045Z",
     "shell.execute_reply": "2020-10-12T08:04:45.645394Z"
    },
    "papermill": {
     "duration": 0.435466,
     "end_time": "2020-10-12T08:04:45.646166",
     "exception": false,
     "start_time": "2020-10-12T08:04:45.210700",
     "status": "completed"
    },
    "tags": []
   },
   "outputs": [
    {
     "data": {
      "text/plain": [
       "<seaborn.axisgrid.FacetGrid at 0x7fb7ed517f50>"
      ]
     },
     "execution_count": 19,
     "metadata": {},
     "output_type": "execute_result"
    },
    {
     "data": {
      "text/plain": [
       "<Figure size 1080x720 with 0 Axes>"
      ]
     },
     "metadata": {},
     "output_type": "display_data"
    },
    {
     "data": {
      "image/png": "[encoded data removed]",
      "text/plain": [
       "<Figure size 504x504 with 1 Axes>"
      ]
     },
     "metadata": {},
     "output_type": "display_data"
    }
   ],
   "source": [
    "plt.figure(figsize=(15,10))\n",
    "ax = sns.relplot(x=\"average_rating\", y=\"language_code\", data = df, color = 'red',sizes=(100, 200), height=7, marker='o')\n",
    "ax.set_axis_labels(\"Average Rating\", \"Languages\")"
   ]
  },
  {
   "cell_type": "code",
   "execution_count": 20,
   "metadata": {
    "execution": {
     "iopub.execute_input": "2020-10-12T08:04:45.786712Z",
     "iopub.status.busy": "2020-10-12T08:04:45.785379Z",
     "iopub.status.idle": "2020-10-12T08:04:46.086193Z",
     "shell.execute_reply": "2020-10-12T08:04:46.085505Z"
    },
    "papermill": {
     "duration": 0.374608,
     "end_time": "2020-10-12T08:04:46.086359",
     "exception": false,
     "start_time": "2020-10-12T08:04:45.711751",
     "status": "completed"
    },
    "tags": []
   },
   "outputs": [
    {
     "data": {
      "text/plain": [
       "<seaborn.axisgrid.FacetGrid at 0x7fb7ec1b06d0>"
      ]
     },
     "execution_count": 20,
     "metadata": {},
     "output_type": "execute_result"
    },
    {
     "data": {
      "text/plain": [
       "<Figure size 1080x720 with 0 Axes>"
      ]
     },
     "metadata": {},
     "output_type": "display_data"
    },
    {
     "data": {
      "image/png": "[encoded data removed]",
      "text/plain": [
       "<Figure size 504x504 with 1 Axes>"
      ]
     },
     "metadata": {},
     "output_type": "display_data"
    }
   ],
   "source": [
    "plt.figure(figsize=(15,10))\n",
    "ax = sns.relplot(x=\"average_rating\", y=\"text_reviews_count\", data = df, color = 'red',sizes=(100, 200), height=7, marker='o')\n",
    "ax.set_axis_labels(\"Average Rating\", \"Text Reviews Count\")"
   ]
  },
  {
   "cell_type": "markdown",
   "metadata": {
    "papermill": {
     "duration": 0.067082,
     "end_time": "2020-10-12T08:04:46.221050",
     "exception": false,
     "start_time": "2020-10-12T08:04:46.153968",
     "status": "completed"
    },
    "tags": []
   },
   "source": [
    "After comparing the average rating with the different columns, we can go ahead with using the Language and the Rating counts for our recommender system. Rest other colummns weren't making much sense and using them might not help us in a big way so we can omit them."
   ]
  },
  {
   "cell_type": "markdown",
   "metadata": {
    "papermill": {
     "duration": 0.066882,
     "end_time": "2020-10-12T08:04:46.355624",
     "exception": false,
     "start_time": "2020-10-12T08:04:46.288742",
     "status": "completed"
    },
    "tags": []
   },
   "source": [
    "We will create a copy of our original data just to be safe so that we are safe in case we mess up something."
   ]
  },
  {
   "cell_type": "code",
   "execution_count": 21,
   "metadata": {
    "execution": {
     "iopub.execute_input": "2020-10-12T08:04:46.497176Z",
     "iopub.status.busy": "2020-10-12T08:04:46.496436Z",
     "iopub.status.idle": "2020-10-12T08:04:46.500012Z",
     "shell.execute_reply": "2020-10-12T08:04:46.500688Z"
    },
    "papermill": {
     "duration": 0.077111,
     "end_time": "2020-10-12T08:04:46.500845",
     "exception": false,
     "start_time": "2020-10-12T08:04:46.423734",
     "status": "completed"
    },
    "tags": []
   },
   "outputs": [],
   "source": [
    "df2 = df.copy()"
   ]
  },
  {
   "cell_type": "markdown",
   "metadata": {
    "papermill": {
     "duration": 0.066884,
     "end_time": "2020-10-12T08:04:46.635457",
     "exception": false,
     "start_time": "2020-10-12T08:04:46.568573",
     "status": "completed"
    },
    "tags": []
   },
   "source": [
    "We will now create a new column called 'rating_between'. We will divide our average rating column into various categories such as rating between 0 and 1, 1 and 2 and so on. This will work as one of the features that we will feed to our model so that it can make better predictions."
   ]
  },
  {
   "cell_type": "code",
   "execution_count": 22,
   "metadata": {
    "execution": {
     "iopub.execute_input": "2020-10-12T08:04:46.779983Z",
     "iopub.status.busy": "2020-10-12T08:04:46.778655Z",
     "iopub.status.idle": "2020-10-12T08:04:46.799647Z",
     "shell.execute_reply": "2020-10-12T08:04:46.798841Z"
    },
    "papermill": {
     "duration": 0.097056,
     "end_time": "2020-10-12T08:04:46.799776",
     "exception": false,
     "start_time": "2020-10-12T08:04:46.702720",
     "status": "completed"
    },
    "tags": []
   },
   "outputs": [],
   "source": [
    "df2.loc[ (df2['average_rating'] >= 0) & (df2['average_rating'] <= 1), 'rating_between'] = \"between 0 and 1\"\n",
    "df2.loc[ (df2['average_rating'] > 1) & (df2['average_rating'] <= 2), 'rating_between'] = \"between 1 and 2\"\n",
    "df2.loc[ (df2['average_rating'] > 2) & (df2['average_rating'] <= 3), 'rating_between'] = \"between 2 and 3\"\n",
    "df2.loc[ (df2['average_rating'] > 3) & (df2['average_rating'] <= 4), 'rating_between'] = \"between 3 and 4\"\n",
    "df2.loc[ (df2['average_rating'] > 4) & (df2['average_rating'] <= 5), 'rating_between'] = \"between 4 and 5\""
   ]
  },
  {
   "cell_type": "code",
   "execution_count": 23,
   "metadata": {
    "execution": {
     "iopub.execute_input": "2020-10-12T08:04:46.957173Z",
     "iopub.status.busy": "2020-10-12T08:04:46.955997Z",
     "iopub.status.idle": "2020-10-12T08:04:46.961243Z",
     "shell.execute_reply": "2020-10-12T08:04:46.960675Z"
    },
    "papermill": {
     "duration": 0.093769,
     "end_time": "2020-10-12T08:04:46.961390",
     "exception": false,
     "start_time": "2020-10-12T08:04:46.867621",
     "status": "completed"
    },
    "tags": []
   },
   "outputs": [
    {
     "data": {
      "text/html": [
       "<div>\n",
       "<style scoped>\n",
       "    .dataframe tbody tr th:only-of-type {\n",
       "        vertical-align: middle;\n",
       "    }\n",
       "\n",
       "    .dataframe tbody tr th {\n",
       "        vertical-align: top;\n",
       "    }\n",
       "\n",
       "    .dataframe thead th {\n",
       "        text-align: right;\n",
       "    }\n",
       "</style>\n",
       "<table border=\"1\" class=\"dataframe\">\n",
       "  <thead>\n",
       "    <tr style=\"text-align: right;\">\n",
       "      <th></th>\n",
       "      <th>bookID</th>\n",
       "      <th>title</th>\n",
       "      <th>authors</th>\n",
       "      <th>average_rating</th>\n",
       "      <th>isbn</th>\n",
       "      <th>isbn13</th>\n",
       "      <th>language_code</th>\n",
       "      <th>num_pages</th>\n",
       "      <th>ratings_count</th>\n",
       "      <th>text_reviews_count</th>\n",
       "      <th>publication_date</th>\n",
       "      <th>publisher</th>\n",
       "      <th>rating_between</th>\n",
       "    </tr>\n",
       "  </thead>\n",
       "  <tbody>\n",
       "    <tr>\n",
       "      <th>0</th>\n",
       "      <td>1</td>\n",
       "      <td>Harry Potter and the Half-Blood Prince (Harry ...</td>\n",
       "      <td>J.K. Rowling/Mary GrandPré</td>\n",
       "      <td>4.57</td>\n",
       "      <td>0439785960</td>\n",
       "      <td>9780439785969</td>\n",
       "      <td>eng</td>\n",
       "      <td>652</td>\n",
       "      <td>2095690</td>\n",
       "      <td>27591</td>\n",
       "      <td>9/16/2006</td>\n",
       "      <td>Scholastic Inc.</td>\n",
       "      <td>between 4 and 5</td>\n",
       "    </tr>\n",
       "    <tr>\n",
       "      <th>1</th>\n",
       "      <td>2</td>\n",
       "      <td>Harry Potter and the Order of the Phoenix (Har...</td>\n",
       "      <td>J.K. Rowling/Mary GrandPré</td>\n",
       "      <td>4.49</td>\n",
       "      <td>0439358078</td>\n",
       "      <td>9780439358071</td>\n",
       "      <td>eng</td>\n",
       "      <td>870</td>\n",
       "      <td>2153167</td>\n",
       "      <td>29221</td>\n",
       "      <td>9/1/2004</td>\n",
       "      <td>Scholastic Inc.</td>\n",
       "      <td>between 4 and 5</td>\n",
       "    </tr>\n",
       "    <tr>\n",
       "      <th>2</th>\n",
       "      <td>4</td>\n",
       "      <td>Harry Potter and the Chamber of Secrets (Harry...</td>\n",
       "      <td>J.K. Rowling</td>\n",
       "      <td>4.42</td>\n",
       "      <td>0439554896</td>\n",
       "      <td>9780439554893</td>\n",
       "      <td>eng</td>\n",
       "      <td>352</td>\n",
       "      <td>6333</td>\n",
       "      <td>244</td>\n",
       "      <td>11/1/2003</td>\n",
       "      <td>Scholastic</td>\n",
       "      <td>between 4 and 5</td>\n",
       "    </tr>\n",
       "    <tr>\n",
       "      <th>3</th>\n",
       "      <td>5</td>\n",
       "      <td>Harry Potter and the Prisoner of Azkaban (Harr...</td>\n",
       "      <td>J.K. Rowling/Mary GrandPré</td>\n",
       "      <td>4.56</td>\n",
       "      <td>043965548X</td>\n",
       "      <td>9780439655484</td>\n",
       "      <td>eng</td>\n",
       "      <td>435</td>\n",
       "      <td>2339585</td>\n",
       "      <td>36325</td>\n",
       "      <td>5/1/2004</td>\n",
       "      <td>Scholastic Inc.</td>\n",
       "      <td>between 4 and 5</td>\n",
       "    </tr>\n",
       "    <tr>\n",
       "      <th>4</th>\n",
       "      <td>8</td>\n",
       "      <td>Harry Potter Boxed Set  Books 1-5 (Harry Potte...</td>\n",
       "      <td>J.K. Rowling/Mary GrandPré</td>\n",
       "      <td>4.78</td>\n",
       "      <td>0439682584</td>\n",
       "      <td>9780439682589</td>\n",
       "      <td>eng</td>\n",
       "      <td>2690</td>\n",
       "      <td>41428</td>\n",
       "      <td>164</td>\n",
       "      <td>9/13/2004</td>\n",
       "      <td>Scholastic</td>\n",
       "      <td>between 4 and 5</td>\n",
       "    </tr>\n",
       "  </tbody>\n",
       "</table>\n",
       "</div>"
      ],
      "text/plain": [
       "   bookID                                              title  \\\n",
       "0       1  Harry Potter and the Half-Blood Prince (Harry ...   \n",
       "1       2  Harry Potter and the Order of the Phoenix (Har...   \n",
       "2       4  Harry Potter and the Chamber of Secrets (Harry...   \n",
       "3       5  Harry Potter and the Prisoner of Azkaban (Harr...   \n",
       "4       8  Harry Potter Boxed Set  Books 1-5 (Harry Potte...   \n",
       "\n",
       "                      authors  average_rating        isbn         isbn13  \\\n",
       "0  J.K. Rowling/Mary GrandPré            4.57  0439785960  9780439785969   \n",
       "1  J.K. Rowling/Mary GrandPré            4.49  0439358078  9780439358071   \n",
       "2                J.K. Rowling            4.42  0439554896  9780439554893   \n",
       "3  J.K. Rowling/Mary GrandPré            4.56  043965548X  9780439655484   \n",
       "4  J.K. Rowling/Mary GrandPré            4.78  0439682584  9780439682589   \n",
       "\n",
       "  language_code    num_pages  ratings_count  text_reviews_count  \\\n",
       "0           eng          652        2095690               27591   \n",
       "1           eng          870        2153167               29221   \n",
       "2           eng          352           6333                 244   \n",
       "3           eng          435        2339585               36325   \n",
       "4           eng         2690          41428                 164   \n",
       "\n",
       "  publication_date        publisher   rating_between  \n",
       "0        9/16/2006  Scholastic Inc.  between 4 and 5  \n",
       "1         9/1/2004  Scholastic Inc.  between 4 and 5  \n",
       "2        11/1/2003       Scholastic  between 4 and 5  \n",
       "3         5/1/2004  Scholastic Inc.  between 4 and 5  \n",
       "4        9/13/2004       Scholastic  between 4 and 5  "
      ]
     },
     "execution_count": 23,
     "metadata": {},
     "output_type": "execute_result"
    }
   ],
   "source": [
    "df2.head()"
   ]
  },
  {
   "cell_type": "markdown",
   "metadata": {
    "papermill": {
     "duration": 0.067694,
     "end_time": "2020-10-12T08:04:47.098966",
     "exception": false,
     "start_time": "2020-10-12T08:04:47.031272",
     "status": "completed"
    },
    "tags": []
   },
   "source": [
    "We will now create two new data frames that contain the different values for the rating_between column we just made. We will assign the value 1 if a rating falls under a particular group lets say 4 and 5 and rest others will be given the value of 0. We will apply the same approach to divide the language code column to retrive  these languages individually and give them the value of 1 and 0 as well where 1 will be assigned if the book is written in a particular language for example, English and 0 if it's not written in English."
   ]
  },
  {
   "cell_type": "code",
   "execution_count": 24,
   "metadata": {
    "execution": {
     "iopub.execute_input": "2020-10-12T08:04:47.247665Z",
     "iopub.status.busy": "2020-10-12T08:04:47.246894Z",
     "iopub.status.idle": "2020-10-12T08:04:47.258314Z",
     "shell.execute_reply": "2020-10-12T08:04:47.257681Z"
    },
    "papermill": {
     "duration": 0.090523,
     "end_time": "2020-10-12T08:04:47.258480",
     "exception": false,
     "start_time": "2020-10-12T08:04:47.167957",
     "status": "completed"
    },
    "tags": []
   },
   "outputs": [
    {
     "data": {
      "text/html": [
       "<div>\n",
       "<style scoped>\n",
       "    .dataframe tbody tr th:only-of-type {\n",
       "        vertical-align: middle;\n",
       "    }\n",
       "\n",
       "    .dataframe tbody tr th {\n",
       "        vertical-align: top;\n",
       "    }\n",
       "\n",
       "    .dataframe thead th {\n",
       "        text-align: right;\n",
       "    }\n",
       "</style>\n",
       "<table border=\"1\" class=\"dataframe\">\n",
       "  <thead>\n",
       "    <tr style=\"text-align: right;\">\n",
       "      <th></th>\n",
       "      <th>between 0 and 1</th>\n",
       "      <th>between 1 and 2</th>\n",
       "      <th>between 2 and 3</th>\n",
       "      <th>between 3 and 4</th>\n",
       "      <th>between 4 and 5</th>\n",
       "    </tr>\n",
       "  </thead>\n",
       "  <tbody>\n",
       "    <tr>\n",
       "      <th>0</th>\n",
       "      <td>0</td>\n",
       "      <td>0</td>\n",
       "      <td>0</td>\n",
       "      <td>0</td>\n",
       "      <td>1</td>\n",
       "    </tr>\n",
       "    <tr>\n",
       "      <th>1</th>\n",
       "      <td>0</td>\n",
       "      <td>0</td>\n",
       "      <td>0</td>\n",
       "      <td>0</td>\n",
       "      <td>1</td>\n",
       "    </tr>\n",
       "    <tr>\n",
       "      <th>2</th>\n",
       "      <td>0</td>\n",
       "      <td>0</td>\n",
       "      <td>0</td>\n",
       "      <td>0</td>\n",
       "      <td>1</td>\n",
       "    </tr>\n",
       "    <tr>\n",
       "      <th>3</th>\n",
       "      <td>0</td>\n",
       "      <td>0</td>\n",
       "      <td>0</td>\n",
       "      <td>0</td>\n",
       "      <td>1</td>\n",
       "    </tr>\n",
       "    <tr>\n",
       "      <th>4</th>\n",
       "      <td>0</td>\n",
       "      <td>0</td>\n",
       "      <td>0</td>\n",
       "      <td>0</td>\n",
       "      <td>1</td>\n",
       "    </tr>\n",
       "  </tbody>\n",
       "</table>\n",
       "</div>"
      ],
      "text/plain": [
       "   between 0 and 1  between 1 and 2  between 2 and 3  between 3 and 4  \\\n",
       "0                0                0                0                0   \n",
       "1                0                0                0                0   \n",
       "2                0                0                0                0   \n",
       "3                0                0                0                0   \n",
       "4                0                0                0                0   \n",
       "\n",
       "   between 4 and 5  \n",
       "0                1  \n",
       "1                1  \n",
       "2                1  \n",
       "3                1  \n",
       "4                1  "
      ]
     },
     "execution_count": 24,
     "metadata": {},
     "output_type": "execute_result"
    }
   ],
   "source": [
    "rating_df = pd.get_dummies(df2['rating_between'])\n",
    "rating_df.head()"
   ]
  },
  {
   "cell_type": "code",
   "execution_count": 25,
   "metadata": {
    "execution": {
     "iopub.execute_input": "2020-10-12T08:04:47.405468Z",
     "iopub.status.busy": "2020-10-12T08:04:47.404676Z",
     "iopub.status.idle": "2020-10-12T08:04:47.425741Z",
     "shell.execute_reply": "2020-10-12T08:04:47.426514Z"
    },
    "papermill": {
     "duration": 0.098283,
     "end_time": "2020-10-12T08:04:47.426678",
     "exception": false,
     "start_time": "2020-10-12T08:04:47.328395",
     "status": "completed"
    },
    "tags": []
   },
   "outputs": [
    {
     "data": {
      "text/html": [
       "<div>\n",
       "<style scoped>\n",
       "    .dataframe tbody tr th:only-of-type {\n",
       "        vertical-align: middle;\n",
       "    }\n",
       "\n",
       "    .dataframe tbody tr th {\n",
       "        vertical-align: top;\n",
       "    }\n",
       "\n",
       "    .dataframe thead th {\n",
       "        text-align: right;\n",
       "    }\n",
       "</style>\n",
       "<table border=\"1\" class=\"dataframe\">\n",
       "  <thead>\n",
       "    <tr style=\"text-align: right;\">\n",
       "      <th></th>\n",
       "      <th>ale</th>\n",
       "      <th>ara</th>\n",
       "      <th>en-CA</th>\n",
       "      <th>en-GB</th>\n",
       "      <th>en-US</th>\n",
       "      <th>eng</th>\n",
       "      <th>enm</th>\n",
       "      <th>fre</th>\n",
       "      <th>ger</th>\n",
       "      <th>gla</th>\n",
       "      <th>...</th>\n",
       "      <th>nl</th>\n",
       "      <th>nor</th>\n",
       "      <th>por</th>\n",
       "      <th>rus</th>\n",
       "      <th>spa</th>\n",
       "      <th>srp</th>\n",
       "      <th>swe</th>\n",
       "      <th>tur</th>\n",
       "      <th>wel</th>\n",
       "      <th>zho</th>\n",
       "    </tr>\n",
       "  </thead>\n",
       "  <tbody>\n",
       "    <tr>\n",
       "      <th>0</th>\n",
       "      <td>0</td>\n",
       "      <td>0</td>\n",
       "      <td>0</td>\n",
       "      <td>0</td>\n",
       "      <td>0</td>\n",
       "      <td>1</td>\n",
       "      <td>0</td>\n",
       "      <td>0</td>\n",
       "      <td>0</td>\n",
       "      <td>0</td>\n",
       "      <td>...</td>\n",
       "      <td>0</td>\n",
       "      <td>0</td>\n",
       "      <td>0</td>\n",
       "      <td>0</td>\n",
       "      <td>0</td>\n",
       "      <td>0</td>\n",
       "      <td>0</td>\n",
       "      <td>0</td>\n",
       "      <td>0</td>\n",
       "      <td>0</td>\n",
       "    </tr>\n",
       "    <tr>\n",
       "      <th>1</th>\n",
       "      <td>0</td>\n",
       "      <td>0</td>\n",
       "      <td>0</td>\n",
       "      <td>0</td>\n",
       "      <td>0</td>\n",
       "      <td>1</td>\n",
       "      <td>0</td>\n",
       "      <td>0</td>\n",
       "      <td>0</td>\n",
       "      <td>0</td>\n",
       "      <td>...</td>\n",
       "      <td>0</td>\n",
       "      <td>0</td>\n",
       "      <td>0</td>\n",
       "      <td>0</td>\n",
       "      <td>0</td>\n",
       "      <td>0</td>\n",
       "      <td>0</td>\n",
       "      <td>0</td>\n",
       "      <td>0</td>\n",
       "      <td>0</td>\n",
       "    </tr>\n",
       "    <tr>\n",
       "      <th>2</th>\n",
       "      <td>0</td>\n",
       "      <td>0</td>\n",
       "      <td>0</td>\n",
       "      <td>0</td>\n",
       "      <td>0</td>\n",
       "      <td>1</td>\n",
       "      <td>0</td>\n",
       "      <td>0</td>\n",
       "      <td>0</td>\n",
       "      <td>0</td>\n",
       "      <td>...</td>\n",
       "      <td>0</td>\n",
       "      <td>0</td>\n",
       "      <td>0</td>\n",
       "      <td>0</td>\n",
       "      <td>0</td>\n",
       "      <td>0</td>\n",
       "      <td>0</td>\n",
       "      <td>0</td>\n",
       "      <td>0</td>\n",
       "      <td>0</td>\n",
       "    </tr>\n",
       "    <tr>\n",
       "      <th>3</th>\n",
       "      <td>0</td>\n",
       "      <td>0</td>\n",
       "      <td>0</td>\n",
       "      <td>0</td>\n",
       "      <td>0</td>\n",
       "      <td>1</td>\n",
       "      <td>0</td>\n",
       "      <td>0</td>\n",
       "      <td>0</td>\n",
       "      <td>0</td>\n",
       "      <td>...</td>\n",
       "      <td>0</td>\n",
       "      <td>0</td>\n",
       "      <td>0</td>\n",
       "      <td>0</td>\n",
       "      <td>0</td>\n",
       "      <td>0</td>\n",
       "      <td>0</td>\n",
       "      <td>0</td>\n",
       "      <td>0</td>\n",
       "      <td>0</td>\n",
       "    </tr>\n",
       "    <tr>\n",
       "      <th>4</th>\n",
       "      <td>0</td>\n",
       "      <td>0</td>\n",
       "      <td>0</td>\n",
       "      <td>0</td>\n",
       "      <td>0</td>\n",
       "      <td>1</td>\n",
       "      <td>0</td>\n",
       "      <td>0</td>\n",
       "      <td>0</td>\n",
       "      <td>0</td>\n",
       "      <td>...</td>\n",
       "      <td>0</td>\n",
       "      <td>0</td>\n",
       "      <td>0</td>\n",
       "      <td>0</td>\n",
       "      <td>0</td>\n",
       "      <td>0</td>\n",
       "      <td>0</td>\n",
       "      <td>0</td>\n",
       "      <td>0</td>\n",
       "      <td>0</td>\n",
       "    </tr>\n",
       "  </tbody>\n",
       "</table>\n",
       "<p>5 rows × 27 columns</p>\n",
       "</div>"
      ],
      "text/plain": [
       "   ale  ara  en-CA  en-GB  en-US  eng  enm  fre  ger  gla  ...  nl  nor  por  \\\n",
       "0    0    0      0      0      0    1    0    0    0    0  ...   0    0    0   \n",
       "1    0    0      0      0      0    1    0    0    0    0  ...   0    0    0   \n",
       "2    0    0      0      0      0    1    0    0    0    0  ...   0    0    0   \n",
       "3    0    0      0      0      0    1    0    0    0    0  ...   0    0    0   \n",
       "4    0    0      0      0      0    1    0    0    0    0  ...   0    0    0   \n",
       "\n",
       "   rus  spa  srp  swe  tur  wel  zho  \n",
       "0    0    0    0    0    0    0    0  \n",
       "1    0    0    0    0    0    0    0  \n",
       "2    0    0    0    0    0    0    0  \n",
       "3    0    0    0    0    0    0    0  \n",
       "4    0    0    0    0    0    0    0  \n",
       "\n",
       "[5 rows x 27 columns]"
      ]
     },
     "execution_count": 25,
     "metadata": {},
     "output_type": "execute_result"
    }
   ],
   "source": [
    "language_df = pd.get_dummies(df2['language_code'])\n",
    "language_df.head()"
   ]
  },
  {
   "cell_type": "markdown",
   "metadata": {
    "papermill": {
     "duration": 0.069858,
     "end_time": "2020-10-12T08:04:47.567150",
     "exception": false,
     "start_time": "2020-10-12T08:04:47.497292",
     "status": "completed"
    },
    "tags": []
   },
   "source": [
    "We will now concatenate these two data frames into one and name it features. This Data frame will be the features that we will feed to the mmodel. It will contain the values of rating_df and language_df and will also have the values of average rating and ratings count."
   ]
  },
  {
   "cell_type": "code",
   "execution_count": 26,
   "metadata": {
    "execution": {
     "iopub.execute_input": "2020-10-12T08:04:47.715498Z",
     "iopub.status.busy": "2020-10-12T08:04:47.714708Z",
     "iopub.status.idle": "2020-10-12T08:04:47.738591Z",
     "shell.execute_reply": "2020-10-12T08:04:47.739133Z"
    },
    "papermill": {
     "duration": 0.101794,
     "end_time": "2020-10-12T08:04:47.739302",
     "exception": false,
     "start_time": "2020-10-12T08:04:47.637508",
     "status": "completed"
    },
    "tags": []
   },
   "outputs": [
    {
     "data": {
      "text/html": [
       "<div>\n",
       "<style scoped>\n",
       "    .dataframe tbody tr th:only-of-type {\n",
       "        vertical-align: middle;\n",
       "    }\n",
       "\n",
       "    .dataframe tbody tr th {\n",
       "        vertical-align: top;\n",
       "    }\n",
       "\n",
       "    .dataframe thead th {\n",
       "        text-align: right;\n",
       "    }\n",
       "</style>\n",
       "<table border=\"1\" class=\"dataframe\">\n",
       "  <thead>\n",
       "    <tr style=\"text-align: right;\">\n",
       "      <th></th>\n",
       "      <th>between 0 and 1</th>\n",
       "      <th>between 1 and 2</th>\n",
       "      <th>between 2 and 3</th>\n",
       "      <th>between 3 and 4</th>\n",
       "      <th>between 4 and 5</th>\n",
       "      <th>ale</th>\n",
       "      <th>ara</th>\n",
       "      <th>en-CA</th>\n",
       "      <th>en-GB</th>\n",
       "      <th>en-US</th>\n",
       "      <th>...</th>\n",
       "      <th>por</th>\n",
       "      <th>rus</th>\n",
       "      <th>spa</th>\n",
       "      <th>srp</th>\n",
       "      <th>swe</th>\n",
       "      <th>tur</th>\n",
       "      <th>wel</th>\n",
       "      <th>zho</th>\n",
       "      <th>average_rating</th>\n",
       "      <th>ratings_count</th>\n",
       "    </tr>\n",
       "  </thead>\n",
       "  <tbody>\n",
       "    <tr>\n",
       "      <th>0</th>\n",
       "      <td>0</td>\n",
       "      <td>0</td>\n",
       "      <td>0</td>\n",
       "      <td>0</td>\n",
       "      <td>1</td>\n",
       "      <td>0</td>\n",
       "      <td>0</td>\n",
       "      <td>0</td>\n",
       "      <td>0</td>\n",
       "      <td>0</td>\n",
       "      <td>...</td>\n",
       "      <td>0</td>\n",
       "      <td>0</td>\n",
       "      <td>0</td>\n",
       "      <td>0</td>\n",
       "      <td>0</td>\n",
       "      <td>0</td>\n",
       "      <td>0</td>\n",
       "      <td>0</td>\n",
       "      <td>4.57</td>\n",
       "      <td>2095690</td>\n",
       "    </tr>\n",
       "    <tr>\n",
       "      <th>1</th>\n",
       "      <td>0</td>\n",
       "      <td>0</td>\n",
       "      <td>0</td>\n",
       "      <td>0</td>\n",
       "      <td>1</td>\n",
       "      <td>0</td>\n",
       "      <td>0</td>\n",
       "      <td>0</td>\n",
       "      <td>0</td>\n",
       "      <td>0</td>\n",
       "      <td>...</td>\n",
       "      <td>0</td>\n",
       "      <td>0</td>\n",
       "      <td>0</td>\n",
       "      <td>0</td>\n",
       "      <td>0</td>\n",
       "      <td>0</td>\n",
       "      <td>0</td>\n",
       "      <td>0</td>\n",
       "      <td>4.49</td>\n",
       "      <td>2153167</td>\n",
       "    </tr>\n",
       "    <tr>\n",
       "      <th>2</th>\n",
       "      <td>0</td>\n",
       "      <td>0</td>\n",
       "      <td>0</td>\n",
       "      <td>0</td>\n",
       "      <td>1</td>\n",
       "      <td>0</td>\n",
       "      <td>0</td>\n",
       "      <td>0</td>\n",
       "      <td>0</td>\n",
       "      <td>0</td>\n",
       "      <td>...</td>\n",
       "      <td>0</td>\n",
       "      <td>0</td>\n",
       "      <td>0</td>\n",
       "      <td>0</td>\n",
       "      <td>0</td>\n",
       "      <td>0</td>\n",
       "      <td>0</td>\n",
       "      <td>0</td>\n",
       "      <td>4.42</td>\n",
       "      <td>6333</td>\n",
       "    </tr>\n",
       "    <tr>\n",
       "      <th>3</th>\n",
       "      <td>0</td>\n",
       "      <td>0</td>\n",
       "      <td>0</td>\n",
       "      <td>0</td>\n",
       "      <td>1</td>\n",
       "      <td>0</td>\n",
       "      <td>0</td>\n",
       "      <td>0</td>\n",
       "      <td>0</td>\n",
       "      <td>0</td>\n",
       "      <td>...</td>\n",
       "      <td>0</td>\n",
       "      <td>0</td>\n",
       "      <td>0</td>\n",
       "      <td>0</td>\n",
       "      <td>0</td>\n",
       "      <td>0</td>\n",
       "      <td>0</td>\n",
       "      <td>0</td>\n",
       "      <td>4.56</td>\n",
       "      <td>2339585</td>\n",
       "    </tr>\n",
       "    <tr>\n",
       "      <th>4</th>\n",
       "      <td>0</td>\n",
       "      <td>0</td>\n",
       "      <td>0</td>\n",
       "      <td>0</td>\n",
       "      <td>1</td>\n",
       "      <td>0</td>\n",
       "      <td>0</td>\n",
       "      <td>0</td>\n",
       "      <td>0</td>\n",
       "      <td>0</td>\n",
       "      <td>...</td>\n",
       "      <td>0</td>\n",
       "      <td>0</td>\n",
       "      <td>0</td>\n",
       "      <td>0</td>\n",
       "      <td>0</td>\n",
       "      <td>0</td>\n",
       "      <td>0</td>\n",
       "      <td>0</td>\n",
       "      <td>4.78</td>\n",
       "      <td>41428</td>\n",
       "    </tr>\n",
       "  </tbody>\n",
       "</table>\n",
       "<p>5 rows × 34 columns</p>\n",
       "</div>"
      ],
      "text/plain": [
       "   between 0 and 1  between 1 and 2  between 2 and 3  between 3 and 4  \\\n",
       "0                0                0                0                0   \n",
       "1                0                0                0                0   \n",
       "2                0                0                0                0   \n",
       "3                0                0                0                0   \n",
       "4                0                0                0                0   \n",
       "\n",
       "   between 4 and 5  ale  ara  en-CA  en-GB  en-US  ...  por  rus  spa  srp  \\\n",
       "0                1    0    0      0      0      0  ...    0    0    0    0   \n",
       "1                1    0    0      0      0      0  ...    0    0    0    0   \n",
       "2                1    0    0      0      0      0  ...    0    0    0    0   \n",
       "3                1    0    0      0      0      0  ...    0    0    0    0   \n",
       "4                1    0    0      0      0      0  ...    0    0    0    0   \n",
       "\n",
       "   swe  tur  wel  zho  average_rating  ratings_count  \n",
       "0    0    0    0    0            4.57        2095690  \n",
       "1    0    0    0    0            4.49        2153167  \n",
       "2    0    0    0    0            4.42           6333  \n",
       "3    0    0    0    0            4.56        2339585  \n",
       "4    0    0    0    0            4.78          41428  \n",
       "\n",
       "[5 rows x 34 columns]"
      ]
     },
     "execution_count": 26,
     "metadata": {},
     "output_type": "execute_result"
    }
   ],
   "source": [
    "features = pd.concat([rating_df, language_df, df2['average_rating'], df2['ratings_count']], axis=1)\n",
    "features.head()"
   ]
  },
  {
   "cell_type": "markdown",
   "metadata": {
    "papermill": {
     "duration": 0.070515,
     "end_time": "2020-10-12T08:04:47.880897",
     "exception": false,
     "start_time": "2020-10-12T08:04:47.810382",
     "status": "completed"
    },
    "tags": []
   },
   "source": [
    "Now that we have our features ready, we will now use the Min-Max scaler to scale these values down. It will help in reducing the bias for some of the books that have too many features. It will basically find the median for all and equalize it,"
   ]
  },
  {
   "cell_type": "code",
   "execution_count": 27,
   "metadata": {
    "execution": {
     "iopub.execute_input": "2020-10-12T08:04:48.029032Z",
     "iopub.status.busy": "2020-10-12T08:04:48.027828Z",
     "iopub.status.idle": "2020-10-12T08:04:48.031172Z",
     "shell.execute_reply": "2020-10-12T08:04:48.030457Z"
    },
    "papermill": {
     "duration": 0.07957,
     "end_time": "2020-10-12T08:04:48.031297",
     "exception": false,
     "start_time": "2020-10-12T08:04:47.951727",
     "status": "completed"
    },
    "tags": []
   },
   "outputs": [],
   "source": [
    "from sklearn.preprocessing import MinMaxScaler"
   ]
  },
  {
   "cell_type": "code",
   "execution_count": 28,
   "metadata": {
    "execution": {
     "iopub.execute_input": "2020-10-12T08:04:48.182209Z",
     "iopub.status.busy": "2020-10-12T08:04:48.181029Z",
     "iopub.status.idle": "2020-10-12T08:04:48.196186Z",
     "shell.execute_reply": "2020-10-12T08:04:48.195416Z"
    },
    "papermill": {
     "duration": 0.09383,
     "end_time": "2020-10-12T08:04:48.196309",
     "exception": false,
     "start_time": "2020-10-12T08:04:48.102479",
     "status": "completed"
    },
    "tags": []
   },
   "outputs": [],
   "source": [
    "min_max_scaler = MinMaxScaler()\n",
    "features = min_max_scaler.fit_transform(features)"
   ]
  },
  {
   "cell_type": "markdown",
   "metadata": {
    "papermill": {
     "duration": 0.071698,
     "end_time": "2020-10-12T08:04:48.340990",
     "exception": false,
     "start_time": "2020-10-12T08:04:48.269292",
     "status": "completed"
    },
    "tags": []
   },
   "source": [
    "We have scaled down our features and now we will use KNN to create our Recommender system."
   ]
  },
  {
   "cell_type": "code",
   "execution_count": 29,
   "metadata": {
    "execution": {
     "iopub.execute_input": "2020-10-12T08:04:48.494361Z",
     "iopub.status.busy": "2020-10-12T08:04:48.493462Z",
     "iopub.status.idle": "2020-10-12T08:04:52.266951Z",
     "shell.execute_reply": "2020-10-12T08:04:52.266183Z"
    },
    "papermill": {
     "duration": 3.853388,
     "end_time": "2020-10-12T08:04:52.267073",
     "exception": false,
     "start_time": "2020-10-12T08:04:48.413685",
     "status": "completed"
    },
    "tags": []
   },
   "outputs": [],
   "source": [
    "model = neighbors.NearestNeighbors(n_neighbors=6, algorithm='ball_tree')\n",
    "model.fit(features)\n",
    "dist, idlist = model.kneighbors(features)"
   ]
  },
  {
   "cell_type": "markdown",
   "metadata": {
    "papermill": {
     "duration": 0.126465,
     "end_time": "2020-10-12T08:04:52.466540",
     "exception": false,
     "start_time": "2020-10-12T08:04:52.340075",
     "status": "completed"
    },
    "tags": []
   },
   "source": [
    "We fit all the features to our model and now we will have to create a custom method. When this method will be called, we will have to pass the name of the book in it. The model will try and find the books based on the features that we have passed in it. We will store these book names that the system recommends in a list and return it at the end."
   ]
  },
  {
   "cell_type": "code",
   "execution_count": 30,
   "metadata": {
    "execution": {
     "iopub.execute_input": "2020-10-12T08:04:52.622572Z",
     "iopub.status.busy": "2020-10-12T08:04:52.621624Z",
     "iopub.status.idle": "2020-10-12T08:04:52.624980Z",
     "shell.execute_reply": "2020-10-12T08:04:52.624246Z"
    },
    "papermill": {
     "duration": 0.082487,
     "end_time": "2020-10-12T08:04:52.625099",
     "exception": false,
     "start_time": "2020-10-12T08:04:52.542612",
     "status": "completed"
    },
    "tags": []
   },
   "outputs": [],
   "source": [
    "def BookRecommender(book_name):\n",
    "    book_list_name = []\n",
    "    book_id = df2[df2['title'] == book_name].index\n",
    "    book_id = book_id[0]\n",
    "    for newid in idlist[book_id]:\n",
    "        book_list_name.append(df2.loc[newid].title)\n",
    "    return book_list_name"
   ]
  },
  {
   "cell_type": "code",
   "execution_count": 31,
   "metadata": {
    "execution": {
     "iopub.execute_input": "2020-10-12T08:04:52.789008Z",
     "iopub.status.busy": "2020-10-12T08:04:52.787697Z",
     "iopub.status.idle": "2020-10-12T08:04:52.793541Z",
     "shell.execute_reply": "2020-10-12T08:04:52.792887Z"
    },
    "papermill": {
     "duration": 0.096172,
     "end_time": "2020-10-12T08:04:52.793680",
     "exception": false,
     "start_time": "2020-10-12T08:04:52.697508",
     "status": "completed"
    },
    "tags": []
   },
   "outputs": [
    {
     "data": {
      "text/plain": [
       "['Harry Potter and the Half-Blood Prince (Harry Potter  #6)',\n",
       " 'Harry Potter and the Order of the Phoenix (Harry Potter  #5)',\n",
       " 'The Fellowship of the Ring (The Lord of the Rings  #1)',\n",
       " 'Harry Potter and the Chamber of Secrets (Harry Potter  #2)',\n",
       " 'Harry Potter and the Prisoner of Azkaban (Harry Potter  #3)',\n",
       " 'The Lightning Thief (Percy Jackson and the Olympians  #1)']"
      ]
     },
     "execution_count": 31,
     "metadata": {},
     "output_type": "execute_result"
    }
   ],
   "source": [
    "BookNames = BookRecommender('Harry Potter and the Half-Blood Prince (Harry Potter  #6)')\n",
    "BookNames"
   ]
  },
  {
   "cell_type": "code",
   "execution_count": 32,
   "metadata": {
    "execution": {
     "iopub.execute_input": "2020-10-12T08:04:52.981240Z",
     "iopub.status.busy": "2020-10-12T08:04:52.980135Z",
     "iopub.status.idle": "2020-10-12T08:04:52.984831Z",
     "shell.execute_reply": "2020-10-12T08:04:52.984204Z"
    },
    "papermill": {
     "duration": 0.098266,
     "end_time": "2020-10-12T08:04:52.984962",
     "exception": false,
     "start_time": "2020-10-12T08:04:52.886696",
     "status": "completed"
    },
    "tags": []
   },
   "outputs": [
    {
     "data": {
      "text/plain": [
       "['The Lord of the Rings: Weapons and Warfare',\n",
       " 'Fullmetal Alchemist  Vol. 2 (Fullmetal Alchemist  #2)',\n",
       " \"Carrie / 'Salem's Lot / The Shining\",\n",
       " 'The Valley of Vision: A Collection of Puritan Prayers and Devotions',\n",
       " 'The Gettysburg Address',\n",
       " 'The Return of the King (The Lord of the Rings  #3)']"
      ]
     },
     "execution_count": 32,
     "metadata": {},
     "output_type": "execute_result"
    }
   ],
   "source": [
    "BookNames = BookRecommender('The Lord of the Rings: Weapons and Warfare')\n",
    "BookNames"
   ]
  },
  {
   "cell_type": "markdown",
   "metadata": {
    "papermill": {
     "duration": 0.072995,
     "end_time": "2020-10-12T08:04:53.132975",
     "exception": false,
     "start_time": "2020-10-12T08:04:53.059980",
     "status": "completed"
    },
    "tags": []
   },
   "source": [
    "With this we come to an end to our Recommender system. As we can see, our model is showing some pretty decent result. We passed in the name of one of the Harry potter books and our system quickly recommended us books based upon the average ratings. The books that we recieved have almost the same ratings and we have also recieved books such as the The Fellowhip of the Ring, which again is a fantasy based story line somewhat similar to the Harry Potter books. So we can say that our model is giving decent results."
   ]
  },
  {
   "cell_type": "code",
   "execution_count": null,
   "metadata": {
    "papermill": {
     "duration": 0.074635,
     "end_time": "2020-10-12T08:04:53.281552",
     "exception": false,
     "start_time": "2020-10-12T08:04:53.206917",
     "status": "completed"
    },
    "tags": []
   },
   "outputs": [],
   "source": []
  }
 ],
 "metadata": {
  "kernelspec": {
   "display_name": "Python 3",
   "language": "python",
   "name": "python3"
  },
  "language_info": {
   "codemirror_mode": {
    "name": "ipython",
    "version": 3
   },
   "file_extension": ".py",
   "mimetype": "text/x-python",
   "name": "python",
   "nbconvert_exporter": "python",
   "pygments_lexer": "ipython3",
   "version": "3.7.6"
  },
  "papermill": {
   "duration": 21.502364,
   "end_time": "2020-10-12T08:04:53.464413",
   "environment_variables": {},
   "exception": null,
   "input_path": "__notebook__.ipynb",
   "output_path": "__notebook__.ipynb",
   "parameters": {},
   "start_time": "2020-10-12T08:04:31.962049",
   "version": "2.1.0"
  }
 },
 "nbformat": 4,
 "nbformat_minor": 4
}
